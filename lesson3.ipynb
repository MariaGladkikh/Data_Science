{
 "cells": [
  {
   "cell_type": "markdown",
   "id": "a501abcf-f225-4e9d-9451-92cb6e89ad61",
   "metadata": {},
   "source": [
    "Нужно придумать небольшую базу данных и написать к ней запросы.\n",
    "В базе должно быть минимум 4 таблицы и хотя бы две связи вида one-to-many или many-to-many. Можно решить как при помощи pandas, так и при помощи SQL.\n",
    "Запросы должны быть осмысленными и должны решать какую-то задачу.\n",
    "\n",
    "<b>Easy</b>\n",
    "Выгрузить данные и отфильтровать их по какому-то значению.\n",
    "Пример запроса с БД, приведенной выше: вывести учителей старше 30 лет.\n",
    "\n",
    "<b>Normal</b>\n",
    "Написать запрос на объединение двух или более таблиц, также в запросе должна быть фильтрация\n",
    "Пример запроса с БД, приведенной выше: найти имя учителя моложе 30 лет, который ведет математику"
   ]
  },
  {
   "cell_type": "code",
   "execution_count": 1,
   "id": "c66ccaf7-3949-4180-96ca-049c0cc5a723",
   "metadata": {},
   "outputs": [],
   "source": [
    "import numpy as np\n",
    "import pandas as pd\n",
    "import sqlite3\n",
    "import random"
   ]
  },
  {
   "cell_type": "code",
   "execution_count": 2,
   "id": "5944a170-46a9-419a-b825-2199aa4fa4a5",
   "metadata": {},
   "outputs": [],
   "source": [
    "sql = sqlite3.connect('database/trade.db')"
   ]
  },
  {
   "cell_type": "code",
   "execution_count": 3,
   "id": "e3afc632-07ce-46ee-bbe7-eb0896c54595",
   "metadata": {},
   "outputs": [
    {
     "name": "stdout",
     "output_type": "stream",
     "text": [
      "  commodity_name  price\n",
      "0         Hill's    250\n",
      "1     1St Choice    148\n",
      "2    Royal Canin    185\n",
      "3       EUKANUBA    213\n",
      "4       Grandorf    348\n",
      "5        Farmina    164\n",
      "  company_name         INN\n",
      "0     Zooptorg  7723517121\n",
      "1         Филя  7816407523\n",
      "2      PetShop  5032256149\n",
      "3     Бетховен  5032327858\n",
      "4  Четыре лапы  7801403117\n"
     ]
    }
   ],
   "source": [
    "commodities_names = [\"Hill's\", \"1St Choice\", \"Royal Canin\", \"EUKANUBA\", \"Grandorf\", \"Farmina\"]\n",
    "commodities_prices = [250, 148, 185, 213, 348, 164]\n",
    "\n",
    "companies_names = [\"Zooptorg\", \"Филя\", \"PetShop\", \"Бетховен\", \"Четыре лапы\"]\n",
    "companies_INNs = [\"7723517121\", \"7816407523\",\"5032256149\", \"5032327858\", \"7801403117\"]\n",
    "commodities = pd.DataFrame({'commodity_name': commodities_names, 'price': commodities_prices})\n",
    "companies = pd.DataFrame({'company_name': companies_names, 'INN':companies_INNs})\n",
    "commodities.to_sql('commodities', sql, index_label='id', if_exists='replace')\n",
    "companies.to_sql('companies', sql, index_label='id', if_exists='replace')\n",
    "print (commodities)\n",
    "print(companies)\n"
   ]
  },
  {
   "cell_type": "code",
   "execution_count": 4,
   "id": "e4221d13-d25d-427d-b389-0e4cd26d6b9f",
   "metadata": {},
   "outputs": [
    {
     "name": "stdout",
     "output_type": "stream",
     "text": [
      "          date  number  company_id     status\n",
      "0   22.10.2021     343           3       paid\n",
      "1   22.10.2021     344           0        new\n",
      "2   23.10.2021     345           3    shipped\n",
      "3   23.10.2021     346           1        new\n",
      "4   23.10.2021     347           1    shipped\n",
      "5   24.10.2021     348           2       paid\n",
      "6   24.10.2021     349           0       paid\n",
      "7   25.10.2021     350           2       paid\n",
      "8   25.10.2021     351           4       paid\n",
      "9   25.10.2021     352           1    shipped\n",
      "10  25.10.2021     353           0        new\n",
      "11  25.10.2021     354           4       paid\n",
      "12  27.10.2021     355           4    shipped\n",
      "13  28.10.2021     356           0    shipped\n",
      "14  28.10.2021     357           1        new\n",
      "15  28.10.2021     358           1       paid\n",
      "16  28.10.2021     359           1        new\n",
      "17  28.10.2021     360           3  completed\n",
      "18  28.10.2021     361           3    shipped\n",
      "19  29.10.2021     362           1       paid\n"
     ]
    }
   ],
   "source": [
    "dates = ['22.10.2021', '22.10.2021', '23.10.2021','23.10.2021','23.10.2021','24.10.2021','24.10.2021','25.10.2021','25.10.2021','25.10.2021','25.10.2021','25.10.2021',\n",
    "         '27.10.2021','28.10.2021','28.10.2021','28.10.2021','28.10.2021','28.10.2021','28.10.2021','29.10.2021']\n",
    "numbers = [i for i in range(343,363)]\n",
    "company_ids = np.random.randint(0, 5, size=20)\n",
    "st = ['new', 'paid', 'shipped', 'completed']\n",
    "statuses = np.random.choice(st, 20, replace=True, p=None)\n",
    "documents = pd.DataFrame({'date':dates, 'number':numbers, 'company_id': company_ids, 'status':statuses})\n",
    "print (documents)\n",
    "\n"
   ]
  },
  {
   "cell_type": "code",
   "execution_count": 5,
   "id": "fc85c672-b024-4436-9b79-e9ee3cc437ab",
   "metadata": {},
   "outputs": [
    {
     "name": "stdout",
     "output_type": "stream",
     "text": [
      "    document_id  commodity_id  qty  price\n",
      "0             0             4   42      0\n",
      "1             0             0   98      0\n",
      "2             0             4   85      0\n",
      "3             1             5   98      0\n",
      "4             1             4    7      0\n",
      "5             1             4   64      0\n",
      "6             2             3   14      0\n",
      "7             2             5   33      0\n",
      "8             2             1   30      0\n",
      "9             3             4   53      0\n",
      "10            3             1   31      0\n",
      "11            3             2   72      0\n",
      "12            4             0   86      0\n",
      "13            4             2   94      0\n",
      "14            4             2   44      0\n",
      "15            5             3    3      0\n",
      "16            5             3   31      0\n",
      "17            5             5   84      0\n",
      "18            6             5   17      0\n",
      "19            6             1   26      0\n",
      "20            6             2   18      0\n",
      "21            7             5   36      0\n",
      "22            7             5   76      0\n",
      "23            7             3   29      0\n",
      "24            8             4   95      0\n",
      "25            8             1   80      0\n",
      "26            8             0   34      0\n",
      "27            9             0   68      0\n",
      "28            9             1   92      0\n",
      "29            9             5   84      0\n",
      "30           10             0   35      0\n",
      "31           10             3   89      0\n",
      "32           10             1   54      0\n",
      "33           11             0   54      0\n",
      "34           11             2   84      0\n",
      "35           11             4   53      0\n",
      "36           12             4   22      0\n",
      "37           12             2   17      0\n",
      "38           12             5   51      0\n",
      "39           13             1   63      0\n",
      "40           13             4   81      0\n",
      "41           13             3   65      0\n",
      "42           14             4   46      0\n",
      "43           14             3   16      0\n",
      "44           14             0   32      0\n",
      "45           15             3   88      0\n",
      "46           15             0   61      0\n",
      "47           15             5   14      0\n",
      "48           16             1   72      0\n",
      "49           16             0   16      0\n",
      "50           16             3   10      0\n",
      "51           17             3   99      0\n",
      "52           17             2   61      0\n",
      "53           17             4   99      0\n",
      "54           18             1   64      0\n",
      "55           18             4   27      0\n",
      "56           18             3   45      0\n",
      "57           19             0   67      0\n",
      "58           19             4    3      0\n",
      "59           19             1   75      0\n"
     ]
    }
   ],
   "source": [
    "#doc_lines\n",
    "# documents_ids = np.random.randint(0, 20, size=30)\n",
    "doc_lines = pd.DataFrame();\n",
    "for i in range (0, len(documents)):\n",
    "    commodity_ids = np.random.randint(0, 6, size=3)\n",
    "    qtys = np.random.randint(1, 100, size=3)\n",
    "    prices = np.random.randint(0,1, size=3)\n",
    "    document_ids = [i] * 3\n",
    "    doc_lines_per_doc = pd.DataFrame({'document_id': document_ids, 'commodity_id':commodity_ids, 'qty':qtys, 'price':prices})\n",
    "    doc_lines = doc_lines.append(doc_lines_per_doc, ignore_index = True)\n",
    "print(doc_lines)"
   ]
  },
  {
   "cell_type": "code",
   "execution_count": 6,
   "id": "ae687958-5828-4347-982d-c1e286ab4691",
   "metadata": {},
   "outputs": [],
   "source": [
    "documents.to_sql('documents', sql, index_label='id', if_exists='replace')\n",
    "doc_lines.to_sql('doc_lines', sql, index_label='id', if_exists='replace')"
   ]
  },
  {
   "cell_type": "code",
   "execution_count": 7,
   "id": "21f2fd33-5ce8-40a0-af43-9d5d40294c00",
   "metadata": {},
   "outputs": [],
   "source": [
    "query = \"\"\"\n",
    "UPDATE doc_lines SET price=(SELECT price FROM commodities WHERE id=doc_lines.commodity_id) RETURNING true\n",
    "\"\"\";\n",
    "pd.read_sql(query, sql);"
   ]
  },
  {
   "cell_type": "markdown",
   "id": "cd399c19-921b-44aa-aafb-5987ce3f26b5",
   "metadata": {},
   "source": [
    " <b>Easy</b> Вывести все отгруженные заказы"
   ]
  },
  {
   "cell_type": "code",
   "execution_count": 8,
   "id": "b7eae627-4503-44aa-8077-d894bdf184e2",
   "metadata": {},
   "outputs": [
    {
     "data": {
      "text/html": [
       "<div>\n",
       "<style scoped>\n",
       "    .dataframe tbody tr th:only-of-type {\n",
       "        vertical-align: middle;\n",
       "    }\n",
       "\n",
       "    .dataframe tbody tr th {\n",
       "        vertical-align: top;\n",
       "    }\n",
       "\n",
       "    .dataframe thead th {\n",
       "        text-align: right;\n",
       "    }\n",
       "</style>\n",
       "<table border=\"1\" class=\"dataframe\">\n",
       "  <thead>\n",
       "    <tr style=\"text-align: right;\">\n",
       "      <th></th>\n",
       "      <th>date</th>\n",
       "      <th>number</th>\n",
       "      <th>status</th>\n",
       "    </tr>\n",
       "  </thead>\n",
       "  <tbody>\n",
       "    <tr>\n",
       "      <th>0</th>\n",
       "      <td>23.10.2021</td>\n",
       "      <td>345</td>\n",
       "      <td>shipped</td>\n",
       "    </tr>\n",
       "    <tr>\n",
       "      <th>1</th>\n",
       "      <td>23.10.2021</td>\n",
       "      <td>347</td>\n",
       "      <td>shipped</td>\n",
       "    </tr>\n",
       "    <tr>\n",
       "      <th>2</th>\n",
       "      <td>25.10.2021</td>\n",
       "      <td>352</td>\n",
       "      <td>shipped</td>\n",
       "    </tr>\n",
       "    <tr>\n",
       "      <th>3</th>\n",
       "      <td>27.10.2021</td>\n",
       "      <td>355</td>\n",
       "      <td>shipped</td>\n",
       "    </tr>\n",
       "    <tr>\n",
       "      <th>4</th>\n",
       "      <td>28.10.2021</td>\n",
       "      <td>356</td>\n",
       "      <td>shipped</td>\n",
       "    </tr>\n",
       "    <tr>\n",
       "      <th>5</th>\n",
       "      <td>28.10.2021</td>\n",
       "      <td>361</td>\n",
       "      <td>shipped</td>\n",
       "    </tr>\n",
       "  </tbody>\n",
       "</table>\n",
       "</div>"
      ],
      "text/plain": [
       "         date  number   status\n",
       "0  23.10.2021     345  shipped\n",
       "1  23.10.2021     347  shipped\n",
       "2  25.10.2021     352  shipped\n",
       "3  27.10.2021     355  shipped\n",
       "4  28.10.2021     356  shipped\n",
       "5  28.10.2021     361  shipped"
      ]
     },
     "execution_count": 8,
     "metadata": {},
     "output_type": "execute_result"
    }
   ],
   "source": [
    "query = \"\"\"\n",
    "SELECT date as date,\n",
    "number as number,\n",
    "status as status\n",
    "FROM documents \n",
    "WHERE status = \"shipped\"\n",
    "\"\"\"\n",
    "pd.read_sql(query, sql)"
   ]
  },
  {
   "cell_type": "markdown",
   "id": "8aa63dd8-c4ca-4da8-94e3-8984fbb72d2a",
   "metadata": {},
   "source": [
    "<b>Normal</b> Вывести все заказы клиента \"Zooptorg\" с суммами"
   ]
  },
  {
   "cell_type": "code",
   "execution_count": 9,
   "id": "c81b9916-b98d-4b43-a5a4-98985d817b8a",
   "metadata": {},
   "outputs": [
    {
     "data": {
      "text/html": [
       "<div>\n",
       "<style scoped>\n",
       "    .dataframe tbody tr th:only-of-type {\n",
       "        vertical-align: middle;\n",
       "    }\n",
       "\n",
       "    .dataframe tbody tr th {\n",
       "        vertical-align: top;\n",
       "    }\n",
       "\n",
       "    .dataframe thead th {\n",
       "        text-align: right;\n",
       "    }\n",
       "</style>\n",
       "<table border=\"1\" class=\"dataframe\">\n",
       "  <thead>\n",
       "    <tr style=\"text-align: right;\">\n",
       "      <th></th>\n",
       "      <th>date</th>\n",
       "      <th>number</th>\n",
       "      <th>company_name</th>\n",
       "      <th>INN</th>\n",
       "      <th>total</th>\n",
       "      <th>document_id</th>\n",
       "    </tr>\n",
       "  </thead>\n",
       "  <tbody>\n",
       "    <tr>\n",
       "      <th>0</th>\n",
       "      <td>22.10.2021</td>\n",
       "      <td>344</td>\n",
       "      <td>Zooptorg</td>\n",
       "      <td>7723517121</td>\n",
       "      <td>40780</td>\n",
       "      <td>1</td>\n",
       "    </tr>\n",
       "    <tr>\n",
       "      <th>1</th>\n",
       "      <td>24.10.2021</td>\n",
       "      <td>349</td>\n",
       "      <td>Zooptorg</td>\n",
       "      <td>7723517121</td>\n",
       "      <td>9966</td>\n",
       "      <td>6</td>\n",
       "    </tr>\n",
       "    <tr>\n",
       "      <th>2</th>\n",
       "      <td>25.10.2021</td>\n",
       "      <td>353</td>\n",
       "      <td>Zooptorg</td>\n",
       "      <td>7723517121</td>\n",
       "      <td>35699</td>\n",
       "      <td>10</td>\n",
       "    </tr>\n",
       "    <tr>\n",
       "      <th>3</th>\n",
       "      <td>28.10.2021</td>\n",
       "      <td>356</td>\n",
       "      <td>Zooptorg</td>\n",
       "      <td>7723517121</td>\n",
       "      <td>51357</td>\n",
       "      <td>13</td>\n",
       "    </tr>\n",
       "  </tbody>\n",
       "</table>\n",
       "</div>"
      ],
      "text/plain": [
       "         date  number company_name         INN  total  document_id\n",
       "0  22.10.2021     344     Zooptorg  7723517121  40780            1\n",
       "1  24.10.2021     349     Zooptorg  7723517121   9966            6\n",
       "2  25.10.2021     353     Zooptorg  7723517121  35699           10\n",
       "3  28.10.2021     356     Zooptorg  7723517121  51357           13"
      ]
     },
     "execution_count": 9,
     "metadata": {},
     "output_type": "execute_result"
    }
   ],
   "source": [
    "query = \"\"\"\n",
    "SELECT date as date,\n",
    "number as number,\n",
    "company_name as company_name,\n",
    "INN as INN,\n",
    "total,\n",
    "document_id\n",
    "FROM documents as doc\n",
    "LEFT JOIN companies as comp ON doc.company_id = comp.id\n",
    "LEFT JOIN (\n",
    "  SELECT document_id,sum(price*qty) AS total FROM  doc_lines GROUP BY document_id\n",
    "  ) AS totals \n",
    "  ON totals.document_id=doc.id\n",
    "WHERE company_name = \"Zooptorg\"\n",
    "\"\"\"\n",
    "pd.read_sql(query, sql)"
   ]
  },
  {
   "cell_type": "markdown",
   "id": "02b334a8-e44e-4123-8f7e-5f413526a140",
   "metadata": {},
   "source": [
    "<b>Hard</b> Статистика продаж по дням (с графиком)"
   ]
  },
  {
   "cell_type": "code",
   "execution_count": 10,
   "id": "cb3c9e43-8b3b-44fc-a5c9-ca82ee32af4e",
   "metadata": {},
   "outputs": [
    {
     "name": "stdout",
     "output_type": "stream",
     "text": [
      "         date   total\n",
      "0  22.10.2021  109476\n",
      "1  23.10.2021   96216\n",
      "2  24.10.2021   30984\n",
      "3  25.10.2021  205520\n",
      "4  27.10.2021   19165\n",
      "5  28.10.2021  227126\n",
      "6  29.10.2021   28894\n"
     ]
    }
   ],
   "source": [
    "query = \"\"\"\n",
    "SELECT date as date,\n",
    "sum(total) AS total\n",
    "FROM documents as doc\n",
    "LEFT JOIN (\n",
    "  SELECT document_id,sum(price*qty) AS total FROM  doc_lines GROUP BY document_id\n",
    "   ) AS totals ON totals.document_id=doc.id\n",
    " GROUP BY date ORDER BY date\n",
    "\"\"\"\n",
    "df = pd.read_sql(query, sql)\n",
    "print(df)"
   ]
  },
  {
   "cell_type": "code",
   "execution_count": 13,
   "id": "9538ff36-e6b7-4a01-9f5f-79216297f12e",
   "metadata": {},
   "outputs": [
    {
     "data": {
      "image/png": "[encoded data removed]",
      "text/plain": [
       "<Figure size 1296x360 with 1 Axes>"
      ]
     },
     "metadata": {
      "needs_background": "light"
     },
     "output_type": "display_data"
    }
   ],
   "source": [
    "import matplotlib.pyplot as plt\n",
    "fig = plt.figure(figsize=(18,5))\n",
    "ax = fig.add_subplot(111)\n",
    "ax.set_xlim([0, 8])\n",
    "ax.set_ylim([0, 300000])\n",
    "ax.set_title('Статистика продаж по дням')\n",
    "ax.set_xlabel('Дни')\n",
    "ax.set_ylabel('Объем продаж')\n",
    "x = df['date']\n",
    "y = df['total']\n",
    "ax.bar(x, y)\n",
    "plt.show()"
   ]
  },
  {
   "cell_type": "code",
   "execution_count": null,
   "id": "d1e5268d-e1ae-40f5-b4d0-64498ed92532",
   "metadata": {},
   "outputs": [],
   "source": []
  }
 ],
 "metadata": {
  "kernelspec": {
   "display_name": "Python 3 (ipykernel)",
   "language": "python",
   "name": "python3"
  },
  "language_info": {
   "codemirror_mode": {
    "name": "ipython",
    "version": 3
   },
   "file_extension": ".py",
   "mimetype": "text/x-python",
   "name": "python",
   "nbconvert_exporter": "python",
   "pygments_lexer": "ipython3",
   "version": "3.8.12"
  }
 },
 "nbformat": 4,
 "nbformat_minor": 5
}
