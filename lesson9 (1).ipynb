{
 "cells": [
  {
   "cell_type": "code",
   "execution_count": 1,
   "id": "6dbb097a-bdc5-4873-a1ea-9be96c6681e1",
   "metadata": {},
   "outputs": [],
   "source": [
    "import pandas as pd\n",
    "import numpy as np\n",
    "import matplotlib.pyplot as plt"
   ]
  },
  {
   "cell_type": "code",
   "execution_count": 13,
   "id": "4f7f4dc2-73b6-4f33-aa3d-6a563f7afa22",
   "metadata": {},
   "outputs": [],
   "source": [
    "import warnings\n",
    "warnings.filterwarnings(\"ignore\")"
   ]
  },
  {
   "cell_type": "markdown",
   "id": "310ba2a1-7576-423c-bd8f-9fd3ffd7da73",
   "metadata": {},
   "source": [
    "Домашняя работа\n",
    "Найти данные о заболеваемости/смертности/выздоровлении COVID-19 (они есть например на Kaggle) и использовать их для решения заданий. Можно использовать как данные по какому-то конкретному региону/стране, так и данные по всему миру.\n",
    "\n",
    "Скорее всего, результат по всем задачам получится не очень.\n",
    "\n",
    "<b>Easy</b>\n",
    "Проверить ряд на стационарность. Привести ряд к стационарному виду.\n",
    "\n",
    "Построить прогноз заболеваемости, используя модель ARIMA, на месяц вперед. Подобрать оптимальные параметры модели. Визуализировать результат. Выглядит ли такой прогноз реалистичным?\n",
    "\n",
    "Для решения задачи можно использовать pmdarima"
   ]
  },
  {
   "cell_type": "code",
   "execution_count": 3,
   "id": "4b41bf05-ecb1-472b-8c90-7151ea172f29",
   "metadata": {},
   "outputs": [
    {
     "data": {
      "text/html": [
       "<div>\n",
       "<style scoped>\n",
       "    .dataframe tbody tr th:only-of-type {\n",
       "        vertical-align: middle;\n",
       "    }\n",
       "\n",
       "    .dataframe tbody tr th {\n",
       "        vertical-align: top;\n",
       "    }\n",
       "\n",
       "    .dataframe thead th {\n",
       "        text-align: right;\n",
       "    }\n",
       "</style>\n",
       "<table border=\"1\" class=\"dataframe\">\n",
       "  <thead>\n",
       "    <tr style=\"text-align: right;\">\n",
       "      <th></th>\n",
       "      <th>Страна</th>\n",
       "      <th>Дата</th>\n",
       "      <th>Заражений</th>\n",
       "      <th>Выздоровлений</th>\n",
       "      <th>Смертей</th>\n",
       "      <th>Заражений за день</th>\n",
       "      <th>Выздоровлений за день</th>\n",
       "      <th>Смертей за день</th>\n",
       "    </tr>\n",
       "  </thead>\n",
       "  <tbody>\n",
       "    <tr>\n",
       "      <th>0</th>\n",
       "      <td>Испания</td>\n",
       "      <td>03.10.2021</td>\n",
       "      <td>4961128</td>\n",
       "      <td>0.0</td>\n",
       "      <td>86463</td>\n",
       "      <td>0</td>\n",
       "      <td>0.0</td>\n",
       "      <td>0</td>\n",
       "    </tr>\n",
       "    <tr>\n",
       "      <th>1</th>\n",
       "      <td>Испания</td>\n",
       "      <td>23.09.2021</td>\n",
       "      <td>4943855</td>\n",
       "      <td>0.0</td>\n",
       "      <td>86185</td>\n",
       "      <td>3031</td>\n",
       "      <td>0.0</td>\n",
       "      <td>100</td>\n",
       "    </tr>\n",
       "    <tr>\n",
       "      <th>2</th>\n",
       "      <td>Испания</td>\n",
       "      <td>02.03.2021</td>\n",
       "      <td>3130184</td>\n",
       "      <td>150376.0</td>\n",
       "      <td>69801</td>\n",
       "      <td>-74347</td>\n",
       "      <td>0.0</td>\n",
       "      <td>192</td>\n",
       "    </tr>\n",
       "    <tr>\n",
       "      <th>3</th>\n",
       "      <td>Испания</td>\n",
       "      <td>28.03.2021</td>\n",
       "      <td>3255324</td>\n",
       "      <td>150376.0</td>\n",
       "      <td>75010</td>\n",
       "      <td>0</td>\n",
       "      <td>0.0</td>\n",
       "      <td>0</td>\n",
       "    </tr>\n",
       "    <tr>\n",
       "      <th>4</th>\n",
       "      <td>Испания</td>\n",
       "      <td>29.06.2021</td>\n",
       "      <td>3799733</td>\n",
       "      <td>150376.0</td>\n",
       "      <td>80829</td>\n",
       "      <td>7091</td>\n",
       "      <td>0.0</td>\n",
       "      <td>40</td>\n",
       "    </tr>\n",
       "    <tr>\n",
       "      <th>...</th>\n",
       "      <td>...</td>\n",
       "      <td>...</td>\n",
       "      <td>...</td>\n",
       "      <td>...</td>\n",
       "      <td>...</td>\n",
       "      <td>...</td>\n",
       "      <td>...</td>\n",
       "      <td>...</td>\n",
       "    </tr>\n",
       "    <tr>\n",
       "      <th>299</th>\n",
       "      <td>Испания</td>\n",
       "      <td>28.05.2021</td>\n",
       "      <td>3668658</td>\n",
       "      <td>150376.0</td>\n",
       "      <td>79905</td>\n",
       "      <td>5482</td>\n",
       "      <td>0.0</td>\n",
       "      <td>17</td>\n",
       "    </tr>\n",
       "    <tr>\n",
       "      <th>300</th>\n",
       "      <td>Испания</td>\n",
       "      <td>03.08.2021</td>\n",
       "      <td>4523310</td>\n",
       "      <td>150376.0</td>\n",
       "      <td>81773</td>\n",
       "      <td>20327</td>\n",
       "      <td>0.0</td>\n",
       "      <td>130</td>\n",
       "    </tr>\n",
       "    <tr>\n",
       "      <th>301</th>\n",
       "      <td>Испания</td>\n",
       "      <td>08.07.2021</td>\n",
       "      <td>3915313</td>\n",
       "      <td>150376.0</td>\n",
       "      <td>80997</td>\n",
       "      <td>17317</td>\n",
       "      <td>0.0</td>\n",
       "      <td>28</td>\n",
       "    </tr>\n",
       "    <tr>\n",
       "      <th>302</th>\n",
       "      <td>Испания</td>\n",
       "      <td>01.02.2021</td>\n",
       "      <td>2822805</td>\n",
       "      <td>150376.0</td>\n",
       "      <td>59081</td>\n",
       "      <td>79686</td>\n",
       "      <td>0.0</td>\n",
       "      <td>762</td>\n",
       "    </tr>\n",
       "    <tr>\n",
       "      <th>303</th>\n",
       "      <td>Испания</td>\n",
       "      <td>23.02.2021</td>\n",
       "      <td>3161432</td>\n",
       "      <td>150376.0</td>\n",
       "      <td>68079</td>\n",
       "      <td>7461</td>\n",
       "      <td>0.0</td>\n",
       "      <td>443</td>\n",
       "    </tr>\n",
       "  </tbody>\n",
       "</table>\n",
       "<p>304 rows × 8 columns</p>\n",
       "</div>"
      ],
      "text/plain": [
       "      Страна        Дата  Заражений  Выздоровлений  Смертей  \\\n",
       "0    Испания  03.10.2021    4961128            0.0    86463   \n",
       "1    Испания  23.09.2021    4943855            0.0    86185   \n",
       "2    Испания  02.03.2021    3130184       150376.0    69801   \n",
       "3    Испания  28.03.2021    3255324       150376.0    75010   \n",
       "4    Испания  29.06.2021    3799733       150376.0    80829   \n",
       "..       ...         ...        ...            ...      ...   \n",
       "299  Испания  28.05.2021    3668658       150376.0    79905   \n",
       "300  Испания  03.08.2021    4523310       150376.0    81773   \n",
       "301  Испания  08.07.2021    3915313       150376.0    80997   \n",
       "302  Испания  01.02.2021    2822805       150376.0    59081   \n",
       "303  Испания  23.02.2021    3161432       150376.0    68079   \n",
       "\n",
       "     Заражений за день  Выздоровлений за день  Смертей за день  \n",
       "0                    0                    0.0                0  \n",
       "1                 3031                    0.0              100  \n",
       "2               -74347                    0.0              192  \n",
       "3                    0                    0.0                0  \n",
       "4                 7091                    0.0               40  \n",
       "..                 ...                    ...              ...  \n",
       "299               5482                    0.0               17  \n",
       "300              20327                    0.0              130  \n",
       "301              17317                    0.0               28  \n",
       "302              79686                    0.0              762  \n",
       "303               7461                    0.0              443  \n",
       "\n",
       "[304 rows x 8 columns]"
      ]
     },
     "execution_count": 3,
     "metadata": {},
     "output_type": "execute_result"
    }
   ],
   "source": [
    "df = pd.read_csv('covid.csv', sep = ';')\n",
    "df_spain = df[df['Страна'] == 'Испания']\n",
    "df_s = df_spain.fillna(0).reset_index(drop=True)\n",
    "df_s"
   ]
  },
  {
   "cell_type": "code",
   "execution_count": 4,
   "id": "0d6caabe-510b-4e12-80d3-21302879a187",
   "metadata": {},
   "outputs": [
    {
     "data": {
      "text/plain": [
       "Страна                    object\n",
       "Дата                      object\n",
       "Заражений                  int64\n",
       "Выздоровлений            float64\n",
       "Смертей                    int64\n",
       "Заражений за день          int64\n",
       "Выздоровлений за день    float64\n",
       "Смертей за день            int64\n",
       "dtype: object"
      ]
     },
     "execution_count": 4,
     "metadata": {},
     "output_type": "execute_result"
    }
   ],
   "source": [
    "df_s.dtypes"
   ]
  },
  {
   "cell_type": "code",
   "execution_count": 5,
   "id": "f0a5e89f-3adc-4bcb-88d5-6a4f4ffce69c",
   "metadata": {},
   "outputs": [
    {
     "data": {
      "text/plain": [
       "Страна                           object\n",
       "Дата                     datetime64[ns]\n",
       "Заражений                         int64\n",
       "Выздоровлений                   float64\n",
       "Смертей                           int64\n",
       "Заражений за день                 int64\n",
       "Выздоровлений за день           float64\n",
       "Смертей за день                   int64\n",
       "dtype: object"
      ]
     },
     "execution_count": 5,
     "metadata": {},
     "output_type": "execute_result"
    }
   ],
   "source": [
    "df_s[\"Дата\"] = pd.to_datetime(df_s[\"Дата\"], dayfirst=True)\n",
    "df_s.dtypes"
   ]
  },
  {
   "cell_type": "code",
   "execution_count": 6,
   "id": "c60178b0-6762-48da-9202-adb5b418f04f",
   "metadata": {},
   "outputs": [
    {
     "data": {
      "text/html": [
       "<div>\n",
       "<style scoped>\n",
       "    .dataframe tbody tr th:only-of-type {\n",
       "        vertical-align: middle;\n",
       "    }\n",
       "\n",
       "    .dataframe tbody tr th {\n",
       "        vertical-align: top;\n",
       "    }\n",
       "\n",
       "    .dataframe thead th {\n",
       "        text-align: right;\n",
       "    }\n",
       "</style>\n",
       "<table border=\"1\" class=\"dataframe\">\n",
       "  <thead>\n",
       "    <tr style=\"text-align: right;\">\n",
       "      <th></th>\n",
       "      <th>Страна</th>\n",
       "      <th>Дата</th>\n",
       "      <th>Заражений</th>\n",
       "      <th>Выздоровлений</th>\n",
       "      <th>Смертей</th>\n",
       "      <th>Заражений за день</th>\n",
       "      <th>Выздоровлений за день</th>\n",
       "      <th>Смертей за день</th>\n",
       "    </tr>\n",
       "  </thead>\n",
       "  <tbody>\n",
       "    <tr>\n",
       "      <th>299</th>\n",
       "      <td>Испания</td>\n",
       "      <td>2021-10-27</td>\n",
       "      <td>5006675</td>\n",
       "      <td>0.0</td>\n",
       "      <td>87289</td>\n",
       "      <td>2532</td>\n",
       "      <td>0.0</td>\n",
       "      <td>51</td>\n",
       "    </tr>\n",
       "    <tr>\n",
       "      <th>300</th>\n",
       "      <td>Испания</td>\n",
       "      <td>2021-10-28</td>\n",
       "      <td>5008887</td>\n",
       "      <td>0.0</td>\n",
       "      <td>87322</td>\n",
       "      <td>2212</td>\n",
       "      <td>0.0</td>\n",
       "      <td>33</td>\n",
       "    </tr>\n",
       "    <tr>\n",
       "      <th>301</th>\n",
       "      <td>Испания</td>\n",
       "      <td>2021-10-29</td>\n",
       "      <td>5011148</td>\n",
       "      <td>0.0</td>\n",
       "      <td>87368</td>\n",
       "      <td>2261</td>\n",
       "      <td>0.0</td>\n",
       "      <td>46</td>\n",
       "    </tr>\n",
       "    <tr>\n",
       "      <th>302</th>\n",
       "      <td>Испания</td>\n",
       "      <td>2021-10-30</td>\n",
       "      <td>5011148</td>\n",
       "      <td>0.0</td>\n",
       "      <td>87368</td>\n",
       "      <td>0</td>\n",
       "      <td>0.0</td>\n",
       "      <td>0</td>\n",
       "    </tr>\n",
       "    <tr>\n",
       "      <th>303</th>\n",
       "      <td>Испания</td>\n",
       "      <td>2021-10-31</td>\n",
       "      <td>5011148</td>\n",
       "      <td>0.0</td>\n",
       "      <td>87368</td>\n",
       "      <td>0</td>\n",
       "      <td>0.0</td>\n",
       "      <td>0</td>\n",
       "    </tr>\n",
       "  </tbody>\n",
       "</table>\n",
       "</div>"
      ],
      "text/plain": [
       "      Страна       Дата  Заражений  Выздоровлений  Смертей  Заражений за день  \\\n",
       "299  Испания 2021-10-27    5006675            0.0    87289               2532   \n",
       "300  Испания 2021-10-28    5008887            0.0    87322               2212   \n",
       "301  Испания 2021-10-29    5011148            0.0    87368               2261   \n",
       "302  Испания 2021-10-30    5011148            0.0    87368                  0   \n",
       "303  Испания 2021-10-31    5011148            0.0    87368                  0   \n",
       "\n",
       "     Выздоровлений за день  Смертей за день  \n",
       "299                    0.0               51  \n",
       "300                    0.0               33  \n",
       "301                    0.0               46  \n",
       "302                    0.0                0  \n",
       "303                    0.0                0  "
      ]
     },
     "execution_count": 6,
     "metadata": {},
     "output_type": "execute_result"
    }
   ],
   "source": [
    "df_s = df_s.sort_values(by=['Дата']).reset_index(drop=True)\n",
    "df_s.tail()"
   ]
  },
  {
   "cell_type": "code",
   "execution_count": 7,
   "id": "a5015c7f-a782-4026-b940-6a56d382ff0b",
   "metadata": {},
   "outputs": [
    {
     "data": {
      "text/plain": [
       "<bound method Index.all of Index(['Страна', 'Дата', 'Заражений', 'Выздоровлений', 'Смертей',\n",
       "       'Заражений за день', 'Выздоровлений за день', 'Смертей за день'],\n",
       "      dtype='object')>"
      ]
     },
     "execution_count": 7,
     "metadata": {},
     "output_type": "execute_result"
    }
   ],
   "source": [
    "df_s.columns.all"
   ]
  },
  {
   "cell_type": "code",
   "execution_count": 8,
   "id": "a11db2e9-7cc2-4644-b5f0-83eb7cf3428a",
   "metadata": {},
   "outputs": [
    {
     "data": {
      "text/html": [
       "<div>\n",
       "<style scoped>\n",
       "    .dataframe tbody tr th:only-of-type {\n",
       "        vertical-align: middle;\n",
       "    }\n",
       "\n",
       "    .dataframe tbody tr th {\n",
       "        vertical-align: top;\n",
       "    }\n",
       "\n",
       "    .dataframe thead th {\n",
       "        text-align: right;\n",
       "    }\n",
       "</style>\n",
       "<table border=\"1\" class=\"dataframe\">\n",
       "  <thead>\n",
       "    <tr style=\"text-align: right;\">\n",
       "      <th></th>\n",
       "      <th>Дата</th>\n",
       "      <th>Заражений</th>\n",
       "      <th>Выздоровлений</th>\n",
       "      <th>Смертей</th>\n",
       "      <th>Заражений за день</th>\n",
       "      <th>Выздоровлений за день</th>\n",
       "      <th>Смертей за день</th>\n",
       "    </tr>\n",
       "  </thead>\n",
       "  <tbody>\n",
       "    <tr>\n",
       "      <th>0</th>\n",
       "      <td>2021-01-01</td>\n",
       "      <td>1928265</td>\n",
       "      <td>150376.0</td>\n",
       "      <td>50837</td>\n",
       "      <td>0</td>\n",
       "      <td>0.0</td>\n",
       "      <td>0</td>\n",
       "    </tr>\n",
       "    <tr>\n",
       "      <th>1</th>\n",
       "      <td>2021-01-02</td>\n",
       "      <td>1928265</td>\n",
       "      <td>150376.0</td>\n",
       "      <td>50837</td>\n",
       "      <td>0</td>\n",
       "      <td>0.0</td>\n",
       "      <td>0</td>\n",
       "    </tr>\n",
       "    <tr>\n",
       "      <th>2</th>\n",
       "      <td>2021-01-03</td>\n",
       "      <td>1928265</td>\n",
       "      <td>150376.0</td>\n",
       "      <td>50837</td>\n",
       "      <td>0</td>\n",
       "      <td>0.0</td>\n",
       "      <td>0</td>\n",
       "    </tr>\n",
       "    <tr>\n",
       "      <th>3</th>\n",
       "      <td>2021-01-04</td>\n",
       "      <td>1958844</td>\n",
       "      <td>150376.0</td>\n",
       "      <td>51078</td>\n",
       "      <td>30579</td>\n",
       "      <td>0.0</td>\n",
       "      <td>241</td>\n",
       "    </tr>\n",
       "    <tr>\n",
       "      <th>4</th>\n",
       "      <td>2021-01-05</td>\n",
       "      <td>1982544</td>\n",
       "      <td>150376.0</td>\n",
       "      <td>51430</td>\n",
       "      <td>23700</td>\n",
       "      <td>0.0</td>\n",
       "      <td>352</td>\n",
       "    </tr>\n",
       "    <tr>\n",
       "      <th>...</th>\n",
       "      <td>...</td>\n",
       "      <td>...</td>\n",
       "      <td>...</td>\n",
       "      <td>...</td>\n",
       "      <td>...</td>\n",
       "      <td>...</td>\n",
       "      <td>...</td>\n",
       "    </tr>\n",
       "    <tr>\n",
       "      <th>299</th>\n",
       "      <td>2021-10-27</td>\n",
       "      <td>5006675</td>\n",
       "      <td>0.0</td>\n",
       "      <td>87289</td>\n",
       "      <td>2532</td>\n",
       "      <td>0.0</td>\n",
       "      <td>51</td>\n",
       "    </tr>\n",
       "    <tr>\n",
       "      <th>300</th>\n",
       "      <td>2021-10-28</td>\n",
       "      <td>5008887</td>\n",
       "      <td>0.0</td>\n",
       "      <td>87322</td>\n",
       "      <td>2212</td>\n",
       "      <td>0.0</td>\n",
       "      <td>33</td>\n",
       "    </tr>\n",
       "    <tr>\n",
       "      <th>301</th>\n",
       "      <td>2021-10-29</td>\n",
       "      <td>5011148</td>\n",
       "      <td>0.0</td>\n",
       "      <td>87368</td>\n",
       "      <td>2261</td>\n",
       "      <td>0.0</td>\n",
       "      <td>46</td>\n",
       "    </tr>\n",
       "    <tr>\n",
       "      <th>302</th>\n",
       "      <td>2021-10-30</td>\n",
       "      <td>5011148</td>\n",
       "      <td>0.0</td>\n",
       "      <td>87368</td>\n",
       "      <td>0</td>\n",
       "      <td>0.0</td>\n",
       "      <td>0</td>\n",
       "    </tr>\n",
       "    <tr>\n",
       "      <th>303</th>\n",
       "      <td>2021-10-31</td>\n",
       "      <td>5011148</td>\n",
       "      <td>0.0</td>\n",
       "      <td>87368</td>\n",
       "      <td>0</td>\n",
       "      <td>0.0</td>\n",
       "      <td>0</td>\n",
       "    </tr>\n",
       "  </tbody>\n",
       "</table>\n",
       "<p>304 rows × 7 columns</p>\n",
       "</div>"
      ],
      "text/plain": [
       "          Дата  Заражений  Выздоровлений  Смертей  Заражений за день  \\\n",
       "0   2021-01-01    1928265       150376.0    50837                  0   \n",
       "1   2021-01-02    1928265       150376.0    50837                  0   \n",
       "2   2021-01-03    1928265       150376.0    50837                  0   \n",
       "3   2021-01-04    1958844       150376.0    51078              30579   \n",
       "4   2021-01-05    1982544       150376.0    51430              23700   \n",
       "..         ...        ...            ...      ...                ...   \n",
       "299 2021-10-27    5006675            0.0    87289               2532   \n",
       "300 2021-10-28    5008887            0.0    87322               2212   \n",
       "301 2021-10-29    5011148            0.0    87368               2261   \n",
       "302 2021-10-30    5011148            0.0    87368                  0   \n",
       "303 2021-10-31    5011148            0.0    87368                  0   \n",
       "\n",
       "     Выздоровлений за день  Смертей за день  \n",
       "0                      0.0                0  \n",
       "1                      0.0                0  \n",
       "2                      0.0                0  \n",
       "3                      0.0              241  \n",
       "4                      0.0              352  \n",
       "..                     ...              ...  \n",
       "299                    0.0               51  \n",
       "300                    0.0               33  \n",
       "301                    0.0               46  \n",
       "302                    0.0                0  \n",
       "303                    0.0                0  \n",
       "\n",
       "[304 rows x 7 columns]"
      ]
     },
     "execution_count": 8,
     "metadata": {},
     "output_type": "execute_result"
    }
   ],
   "source": [
    "df_s1 = df_s.drop('Страна', 1)\n",
    "df_s1\n"
   ]
  },
  {
   "cell_type": "code",
   "execution_count": 9,
   "id": "dc1f9afe-39ae-4324-b1ab-6daec7af00f3",
   "metadata": {},
   "outputs": [
    {
     "data": {
      "text/html": [
       "<div>\n",
       "<style scoped>\n",
       "    .dataframe tbody tr th:only-of-type {\n",
       "        vertical-align: middle;\n",
       "    }\n",
       "\n",
       "    .dataframe tbody tr th {\n",
       "        vertical-align: top;\n",
       "    }\n",
       "\n",
       "    .dataframe thead th {\n",
       "        text-align: right;\n",
       "    }\n",
       "</style>\n",
       "<table border=\"1\" class=\"dataframe\">\n",
       "  <thead>\n",
       "    <tr style=\"text-align: right;\">\n",
       "      <th></th>\n",
       "      <th>Заражений</th>\n",
       "      <th>Выздоровлений</th>\n",
       "      <th>Смертей</th>\n",
       "      <th>Заражений за день</th>\n",
       "      <th>Выздоровлений за день</th>\n",
       "      <th>Смертей за день</th>\n",
       "    </tr>\n",
       "    <tr>\n",
       "      <th>Дата</th>\n",
       "      <th></th>\n",
       "      <th></th>\n",
       "      <th></th>\n",
       "      <th></th>\n",
       "      <th></th>\n",
       "      <th></th>\n",
       "    </tr>\n",
       "  </thead>\n",
       "  <tbody>\n",
       "    <tr>\n",
       "      <th>2021-01-01</th>\n",
       "      <td>1928265</td>\n",
       "      <td>150376.0</td>\n",
       "      <td>50837</td>\n",
       "      <td>0</td>\n",
       "      <td>0.0</td>\n",
       "      <td>0</td>\n",
       "    </tr>\n",
       "    <tr>\n",
       "      <th>2021-01-02</th>\n",
       "      <td>1928265</td>\n",
       "      <td>150376.0</td>\n",
       "      <td>50837</td>\n",
       "      <td>0</td>\n",
       "      <td>0.0</td>\n",
       "      <td>0</td>\n",
       "    </tr>\n",
       "    <tr>\n",
       "      <th>2021-01-03</th>\n",
       "      <td>1928265</td>\n",
       "      <td>150376.0</td>\n",
       "      <td>50837</td>\n",
       "      <td>0</td>\n",
       "      <td>0.0</td>\n",
       "      <td>0</td>\n",
       "    </tr>\n",
       "    <tr>\n",
       "      <th>2021-01-04</th>\n",
       "      <td>1958844</td>\n",
       "      <td>150376.0</td>\n",
       "      <td>51078</td>\n",
       "      <td>30579</td>\n",
       "      <td>0.0</td>\n",
       "      <td>241</td>\n",
       "    </tr>\n",
       "    <tr>\n",
       "      <th>2021-01-05</th>\n",
       "      <td>1982544</td>\n",
       "      <td>150376.0</td>\n",
       "      <td>51430</td>\n",
       "      <td>23700</td>\n",
       "      <td>0.0</td>\n",
       "      <td>352</td>\n",
       "    </tr>\n",
       "    <tr>\n",
       "      <th>...</th>\n",
       "      <td>...</td>\n",
       "      <td>...</td>\n",
       "      <td>...</td>\n",
       "      <td>...</td>\n",
       "      <td>...</td>\n",
       "      <td>...</td>\n",
       "    </tr>\n",
       "    <tr>\n",
       "      <th>2021-10-27</th>\n",
       "      <td>5006675</td>\n",
       "      <td>0.0</td>\n",
       "      <td>87289</td>\n",
       "      <td>2532</td>\n",
       "      <td>0.0</td>\n",
       "      <td>51</td>\n",
       "    </tr>\n",
       "    <tr>\n",
       "      <th>2021-10-28</th>\n",
       "      <td>5008887</td>\n",
       "      <td>0.0</td>\n",
       "      <td>87322</td>\n",
       "      <td>2212</td>\n",
       "      <td>0.0</td>\n",
       "      <td>33</td>\n",
       "    </tr>\n",
       "    <tr>\n",
       "      <th>2021-10-29</th>\n",
       "      <td>5011148</td>\n",
       "      <td>0.0</td>\n",
       "      <td>87368</td>\n",
       "      <td>2261</td>\n",
       "      <td>0.0</td>\n",
       "      <td>46</td>\n",
       "    </tr>\n",
       "    <tr>\n",
       "      <th>2021-10-30</th>\n",
       "      <td>5011148</td>\n",
       "      <td>0.0</td>\n",
       "      <td>87368</td>\n",
       "      <td>0</td>\n",
       "      <td>0.0</td>\n",
       "      <td>0</td>\n",
       "    </tr>\n",
       "    <tr>\n",
       "      <th>2021-10-31</th>\n",
       "      <td>5011148</td>\n",
       "      <td>0.0</td>\n",
       "      <td>87368</td>\n",
       "      <td>0</td>\n",
       "      <td>0.0</td>\n",
       "      <td>0</td>\n",
       "    </tr>\n",
       "  </tbody>\n",
       "</table>\n",
       "<p>304 rows × 6 columns</p>\n",
       "</div>"
      ],
      "text/plain": [
       "            Заражений  Выздоровлений  Смертей  Заражений за день  \\\n",
       "Дата                                                               \n",
       "2021-01-01    1928265       150376.0    50837                  0   \n",
       "2021-01-02    1928265       150376.0    50837                  0   \n",
       "2021-01-03    1928265       150376.0    50837                  0   \n",
       "2021-01-04    1958844       150376.0    51078              30579   \n",
       "2021-01-05    1982544       150376.0    51430              23700   \n",
       "...               ...            ...      ...                ...   \n",
       "2021-10-27    5006675            0.0    87289               2532   \n",
       "2021-10-28    5008887            0.0    87322               2212   \n",
       "2021-10-29    5011148            0.0    87368               2261   \n",
       "2021-10-30    5011148            0.0    87368                  0   \n",
       "2021-10-31    5011148            0.0    87368                  0   \n",
       "\n",
       "            Выздоровлений за день  Смертей за день  \n",
       "Дата                                                \n",
       "2021-01-01                    0.0                0  \n",
       "2021-01-02                    0.0                0  \n",
       "2021-01-03                    0.0                0  \n",
       "2021-01-04                    0.0              241  \n",
       "2021-01-05                    0.0              352  \n",
       "...                           ...              ...  \n",
       "2021-10-27                    0.0               51  \n",
       "2021-10-28                    0.0               33  \n",
       "2021-10-29                    0.0               46  \n",
       "2021-10-30                    0.0                0  \n",
       "2021-10-31                    0.0                0  \n",
       "\n",
       "[304 rows x 6 columns]"
      ]
     },
     "execution_count": 9,
     "metadata": {},
     "output_type": "execute_result"
    }
   ],
   "source": [
    "df_s2 = df_s1.set_index('Дата')\n",
    "df_s2"
   ]
  },
  {
   "cell_type": "code",
   "execution_count": 10,
   "id": "1d0839f2-091b-4b1a-ad0f-49bba1d6d3bb",
   "metadata": {},
   "outputs": [],
   "source": [
    "import statsmodels.tsa.stattools"
   ]
  },
  {
   "cell_type": "code",
   "execution_count": 14,
   "id": "542d5df2-8e69-44a2-8591-b09ce3729b88",
   "metadata": {},
   "outputs": [
    {
     "data": {
      "text/plain": [
       "(1.820347336087005, 0.01)"
      ]
     },
     "execution_count": 14,
     "metadata": {},
     "output_type": "execute_result"
    }
   ],
   "source": [
    "stat, p_value, *_ = statsmodels.tsa.stattools.kpss(df_s2['Заражений'])\n",
    "stat, p_value"
   ]
  },
  {
   "cell_type": "code",
   "execution_count": 15,
   "id": "25544912-0db2-4ac2-ae64-9ec3d0b97642",
   "metadata": {},
   "outputs": [
    {
     "data": {
      "text/plain": [
       "(1.3207907303843973, 0.01)"
      ]
     },
     "execution_count": 15,
     "metadata": {},
     "output_type": "execute_result"
    }
   ],
   "source": [
    "stat, p_value, *_ = statsmodels.tsa.stattools.kpss(df_s2['Выздоровлений'])\n",
    "stat, p_value"
   ]
  },
  {
   "cell_type": "code",
   "execution_count": 16,
   "id": "62b222e1-4ff5-42b8-9341-46a01db0cb1f",
   "metadata": {},
   "outputs": [
    {
     "data": {
      "text/plain": [
       "(1.5777092028851485, 0.01)"
      ]
     },
     "execution_count": 16,
     "metadata": {},
     "output_type": "execute_result"
    }
   ],
   "source": [
    "stat, p_value, *_ = statsmodels.tsa.stattools.kpss(df_s2['Смертей'])\n",
    "stat, p_value"
   ]
  },
  {
   "cell_type": "markdown",
   "id": "0d2db5a3-89d5-4c21-94a0-2019822ba7b6",
   "metadata": {},
   "source": [
    "У критерия KPSS нулевая гипотеза - ряд стационарен.\n",
    "p-value меньше 0.05 по всем трем параметрам, нулевая гипотеза неверна, ряд нестационарен"
   ]
  },
  {
   "cell_type": "code",
   "execution_count": 17,
   "id": "183dc807-b2f9-4832-93f4-30bfe32e834e",
   "metadata": {},
   "outputs": [
    {
     "data": {
      "text/plain": [
       "<AxesSubplot:xlabel='Дата'>"
      ]
     },
     "execution_count": 17,
     "metadata": {},
     "output_type": "execute_result"
    },
    {
     "data": {
      "image/png": "[encoded data removed]",
      "text/plain": [
       "<Figure size 432x288 with 1 Axes>"
      ]
     },
     "metadata": {
      "needs_background": "light"
     },
     "output_type": "display_data"
    }
   ],
   "source": [
    "df_inf = df_s2[['Заражений']]\n",
    "df_inf.plot()"
   ]
  },
  {
   "cell_type": "code",
   "execution_count": 18,
   "id": "b29ea4bc-b24a-4609-9b9e-9ba9b0d36917",
   "metadata": {},
   "outputs": [
    {
     "data": {
      "text/plain": [
       "<AxesSubplot:xlabel='Дата'>"
      ]
     },
     "execution_count": 18,
     "metadata": {},
     "output_type": "execute_result"
    },
    {
     "data": {
      "image/png": "[encoded data removed]",
      "text/plain": [
       "<Figure size 432x288 with 1 Axes>"
      ]
     },
     "metadata": {
      "needs_background": "light"
     },
     "output_type": "display_data"
    }
   ],
   "source": [
    "df_inf['log'] = np.log(df_inf['Заражений']).values\n",
    "df_i = df_inf['log']\n",
    "df_i.plot()"
   ]
  },
  {
   "cell_type": "code",
   "execution_count": 19,
   "id": "41a5608b-6f86-487a-b467-8ecd378b640f",
   "metadata": {},
   "outputs": [],
   "source": [
    "n_sample = len(df_i)\n",
    "pivot = int(0.8 * n_sample)\n",
    "x_train, x_test = df_i.iloc[:pivot], df_i.iloc[pivot:]"
   ]
  },
  {
   "cell_type": "code",
   "execution_count": 20,
   "id": "c8d4eef7-b28b-4161-b7ae-44ef0c327a66",
   "metadata": {},
   "outputs": [],
   "source": [
    "from statsmodels.tsa.arima.model import ARIMA"
   ]
  },
  {
   "cell_type": "code",
   "execution_count": 21,
   "id": "417143e2-912f-4e82-9cb4-3a2ee2661b8b",
   "metadata": {},
   "outputs": [
    {
     "name": "stdout",
     "output_type": "stream",
     "text": [
      "AIC= -2219.936986838933\n"
     ]
    },
    {
     "data": {
      "image/png": "[encoded data removed]",
      "text/plain": [
       "<Figure size 432x288 with 1 Axes>"
      ]
     },
     "metadata": {
      "needs_background": "light"
     },
     "output_type": "display_data"
    }
   ],
   "source": [
    "model_fit = ARIMA(df_i, order=(2, 0, 2)).fit()\n",
    "df_i.plot()\n",
    "model_fit.forecast(60).plot()\n",
    "print('AIC=', model_fit.aic)"
   ]
  },
  {
   "cell_type": "code",
   "execution_count": 22,
   "id": "ac260160-7c25-41ed-982b-cedc6447cd52",
   "metadata": {},
   "outputs": [],
   "source": [
    "p_list = [2, 3, 4]\n",
    "d_list = [0, 1]\n",
    "q_list = [0, 1, 2]\n",
    "\n",
    "from itertools import product\n",
    "\n",
    "n_sample = len(df_inf)\n",
    "pivot = int(0.8 * n_sample)\n",
    "x_train, x_test = df_i.iloc[:pivot], df_i.iloc[pivot:]\n",
    "best_aic = 10000\n",
    "best_params = (None, None, None)\n",
    "for p, d, q in product(p_list, d_list, q_list):\n",
    "    model = ARIMA(x_train, order=(p, d, q)).fit()\n",
    "    if model.aic < best_aic:\n",
    "        best_aic = model.aic\n",
    "        x_pred = model.forecast(len(x_test))\n",
    "        best_params = (p, d, q)"
   ]
  },
  {
   "cell_type": "code",
   "execution_count": 23,
   "id": "e2cb5a95-7036-42b5-88c4-6090c237ae95",
   "metadata": {},
   "outputs": [
    {
     "data": {
      "text/plain": [
       "(4, 1, 2)"
      ]
     },
     "execution_count": 23,
     "metadata": {},
     "output_type": "execute_result"
    }
   ],
   "source": [
    "best_params"
   ]
  },
  {
   "cell_type": "code",
   "execution_count": 24,
   "id": "d37f5d30-7de7-49b0-ae35-513de3f6f18e",
   "metadata": {},
   "outputs": [
    {
     "name": "stdout",
     "output_type": "stream",
     "text": [
      "AIC= -2401.307901103241\n"
     ]
    },
    {
     "data": {
      "image/png": "[encoded data removed]",
      "text/plain": [
       "<Figure size 432x288 with 1 Axes>"
      ]
     },
     "metadata": {
      "needs_background": "light"
     },
     "output_type": "display_data"
    }
   ],
   "source": [
    "model_fit1 = ARIMA(df_i, order=(4, 1, 2)).fit()\n",
    "pd.Series(np.exp(df_i)).plot()\n",
    "pd.Series(np.exp(model_fit1.forecast(60))).plot()\n",
    "print('AIC=', model_fit1.aic)"
   ]
  },
  {
   "cell_type": "markdown",
   "id": "9492a96e-8a43-47f7-94d7-878777b73850",
   "metadata": {},
   "source": [
    "<b>Normal</b>\n",
    "Применить градиентный бустинг для решения задачи. Используя кросс-валидацию, сравнить результаты ARIMA и бустинга."
   ]
  },
  {
   "cell_type": "code",
   "execution_count": 32,
   "id": "36d596ec-9e13-4559-86a5-a8360bb272f2",
   "metadata": {},
   "outputs": [],
   "source": [
    "from sklearn.ensemble import GradientBoostingRegressor\n",
    "from sklearn.model_selection import RandomizedSearchCV\n",
    "from sklearn.model_selection import cross_val_score\n",
    "from sklearn.metrics import accuracy_score"
   ]
  },
  {
   "cell_type": "code",
   "execution_count": 26,
   "id": "b9e040c9-c1a7-4c47-bb09-a871f22a9c6b",
   "metadata": {},
   "outputs": [],
   "source": [
    "params = {\n",
    "    'n_estimators': [5, 100, 500, 1000],\n",
    "    'criterion': ['friedman_mse', 'mse', 'mae'],\n",
    "    'max_depth': [3, 5, 7, 10]\n",
    "}"
   ]
  },
  {
   "cell_type": "code",
   "execution_count": 27,
   "id": "26ca7617-ca13-48f6-90ab-6d9b8189abab",
   "metadata": {},
   "outputs": [
    {
     "data": {
      "text/html": [
       "<div>\n",
       "<style scoped>\n",
       "    .dataframe tbody tr th:only-of-type {\n",
       "        vertical-align: middle;\n",
       "    }\n",
       "\n",
       "    .dataframe tbody tr th {\n",
       "        vertical-align: top;\n",
       "    }\n",
       "\n",
       "    .dataframe thead th {\n",
       "        text-align: right;\n",
       "    }\n",
       "</style>\n",
       "<table border=\"1\" class=\"dataframe\">\n",
       "  <thead>\n",
       "    <tr style=\"text-align: right;\">\n",
       "      <th></th>\n",
       "      <th>Заражений</th>\n",
       "    </tr>\n",
       "    <tr>\n",
       "      <th>Дата</th>\n",
       "      <th></th>\n",
       "    </tr>\n",
       "  </thead>\n",
       "  <tbody>\n",
       "    <tr>\n",
       "      <th>2021-01-01</th>\n",
       "      <td>1928265</td>\n",
       "    </tr>\n",
       "    <tr>\n",
       "      <th>2021-01-02</th>\n",
       "      <td>1928265</td>\n",
       "    </tr>\n",
       "    <tr>\n",
       "      <th>2021-01-03</th>\n",
       "      <td>1928265</td>\n",
       "    </tr>\n",
       "    <tr>\n",
       "      <th>2021-01-04</th>\n",
       "      <td>1958844</td>\n",
       "    </tr>\n",
       "    <tr>\n",
       "      <th>2021-01-05</th>\n",
       "      <td>1982544</td>\n",
       "    </tr>\n",
       "    <tr>\n",
       "      <th>...</th>\n",
       "      <td>...</td>\n",
       "    </tr>\n",
       "    <tr>\n",
       "      <th>2021-10-27</th>\n",
       "      <td>5006675</td>\n",
       "    </tr>\n",
       "    <tr>\n",
       "      <th>2021-10-28</th>\n",
       "      <td>5008887</td>\n",
       "    </tr>\n",
       "    <tr>\n",
       "      <th>2021-10-29</th>\n",
       "      <td>5011148</td>\n",
       "    </tr>\n",
       "    <tr>\n",
       "      <th>2021-10-30</th>\n",
       "      <td>5011148</td>\n",
       "    </tr>\n",
       "    <tr>\n",
       "      <th>2021-10-31</th>\n",
       "      <td>5011148</td>\n",
       "    </tr>\n",
       "  </tbody>\n",
       "</table>\n",
       "<p>304 rows × 1 columns</p>\n",
       "</div>"
      ],
      "text/plain": [
       "            Заражений\n",
       "Дата                 \n",
       "2021-01-01    1928265\n",
       "2021-01-02    1928265\n",
       "2021-01-03    1928265\n",
       "2021-01-04    1958844\n",
       "2021-01-05    1982544\n",
       "...               ...\n",
       "2021-10-27    5006675\n",
       "2021-10-28    5008887\n",
       "2021-10-29    5011148\n",
       "2021-10-30    5011148\n",
       "2021-10-31    5011148\n",
       "\n",
       "[304 rows x 1 columns]"
      ]
     },
     "execution_count": 27,
     "metadata": {},
     "output_type": "execute_result"
    }
   ],
   "source": [
    "df_i2 = df_inf.drop('log', 1)\n",
    "df_i2"
   ]
  },
  {
   "cell_type": "code",
   "execution_count": 36,
   "id": "407bccbc-0239-4411-a5ca-5e5de26bd6eb",
   "metadata": {},
   "outputs": [
    {
     "data": {
      "text/plain": [
       "GradientBoostingRegressor(criterion='mae', max_depth=5)"
      ]
     },
     "execution_count": 36,
     "metadata": {},
     "output_type": "execute_result"
    }
   ],
   "source": [
    "x_train, x_test = df_i2[:pivot], df_i2[pivot:]\n",
    "t_train, t_test = np.arange(len(x_train)).reshape(-1, 1), np.arange(len(x_train), len(x_train) + len(x_test)).reshape(-1, 1)\n",
    "\n",
    "r_search = RandomizedSearchCV(GradientBoostingRegressor(), params)\n",
    "r_search.fit(t_train, x_train)\n",
    "r_search.best_estimator_"
   ]
  },
  {
   "cell_type": "code",
   "execution_count": 37,
   "id": "b492fadd-733b-433f-80d2-1af4c02c8f53",
   "metadata": {},
   "outputs": [
    {
     "data": {
      "text/plain": [
       "GradientBoostingRegressor(criterion='mae', max_depth=5, n_estimators=500)"
      ]
     },
     "execution_count": 37,
     "metadata": {},
     "output_type": "execute_result"
    }
   ],
   "source": [
    "model_boost = GradientBoostingRegressor(criterion='mae', max_depth=5, n_estimators=500)\n",
    "model_boost.fit(t_train, x_train)"
   ]
  },
  {
   "cell_type": "code",
   "execution_count": 38,
   "id": "0161be77-4899-4377-b1f2-c4689a44855e",
   "metadata": {},
   "outputs": [
    {
     "name": "stdout",
     "output_type": "stream",
     "text": [
      "Кросс-валидация на трейн: [-2.04329279 -0.64822841 -0.11037537 -2.18282036 -4.39855822]\n",
      "Среднее по кросс-валидации: -1.8766550271345372\n"
     ]
    }
   ],
   "source": [
    "cross_val = cross_val_score(model_boost, t_train, x_train)\n",
    "print('Кросс-валидация на трейн:',cross_val)\n",
    "print('Среднее по кросс-валидации:', cross_val.mean())\n"
   ]
  }
 ],
 "metadata": {
  "kernelspec": {
   "display_name": "Python 3",
   "language": "python",
   "name": "python3"
  },
  "language_info": {
   "codemirror_mode": {
    "name": "ipython",
    "version": 3
   },
   "file_extension": ".py",
   "mimetype": "text/x-python",
   "name": "python",
   "nbconvert_exporter": "python",
   "pygments_lexer": "ipython3",
   "version": "3.8.8"
  }
 },
 "nbformat": 4,
 "nbformat_minor": 5
}
