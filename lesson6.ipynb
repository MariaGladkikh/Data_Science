{
 "cells": [
  {
   "cell_type": "code",
   "execution_count": 1,
   "id": "707bc27d-a114-45d6-b2dd-ce32663f3a31",
   "metadata": {},
   "outputs": [],
   "source": [
    "from sklearn.linear_model import LinearRegression, Ridge, Lasso\n",
    "from sklearn.linear_model import LogisticRegression\n",
    "from sklearn.tree import DecisionTreeClassifier\n",
    "from sklearn.model_selection import train_test_split\n",
    "from sklearn.metrics import mean_squared_error\n",
    "import pandas as pd\n",
    "import numpy as np\n",
    "import seaborn as sns\n",
    "import matplotlib.pyplot as plt"
   ]
  },
  {
   "cell_type": "code",
   "execution_count": 2,
   "id": "4857b013-0dcb-49fe-a290-75411bae4490",
   "metadata": {},
   "outputs": [
    {
     "data": {
      "text/html": [
       "<div>\n",
       "<style scoped>\n",
       "    .dataframe tbody tr th:only-of-type {\n",
       "        vertical-align: middle;\n",
       "    }\n",
       "\n",
       "    .dataframe tbody tr th {\n",
       "        vertical-align: top;\n",
       "    }\n",
       "\n",
       "    .dataframe thead th {\n",
       "        text-align: right;\n",
       "    }\n",
       "</style>\n",
       "<table border=\"1\" class=\"dataframe\">\n",
       "  <thead>\n",
       "    <tr style=\"text-align: right;\">\n",
       "      <th></th>\n",
       "      <th>PassengerId</th>\n",
       "      <th>Survived</th>\n",
       "      <th>Pclass</th>\n",
       "      <th>Name</th>\n",
       "      <th>Sex</th>\n",
       "      <th>Age</th>\n",
       "      <th>SibSp</th>\n",
       "      <th>Parch</th>\n",
       "      <th>Ticket</th>\n",
       "      <th>Fare</th>\n",
       "      <th>Cabin</th>\n",
       "      <th>Embarked</th>\n",
       "    </tr>\n",
       "  </thead>\n",
       "  <tbody>\n",
       "    <tr>\n",
       "      <th>0</th>\n",
       "      <td>1</td>\n",
       "      <td>0</td>\n",
       "      <td>3</td>\n",
       "      <td>Braund, Mr. Owen Harris</td>\n",
       "      <td>male</td>\n",
       "      <td>22.0</td>\n",
       "      <td>1</td>\n",
       "      <td>0</td>\n",
       "      <td>A/5 21171</td>\n",
       "      <td>7.2500</td>\n",
       "      <td>NaN</td>\n",
       "      <td>S</td>\n",
       "    </tr>\n",
       "    <tr>\n",
       "      <th>1</th>\n",
       "      <td>2</td>\n",
       "      <td>1</td>\n",
       "      <td>1</td>\n",
       "      <td>Cumings, Mrs. John Bradley (Florence Briggs Th...</td>\n",
       "      <td>female</td>\n",
       "      <td>38.0</td>\n",
       "      <td>1</td>\n",
       "      <td>0</td>\n",
       "      <td>PC 17599</td>\n",
       "      <td>71.2833</td>\n",
       "      <td>C85</td>\n",
       "      <td>C</td>\n",
       "    </tr>\n",
       "    <tr>\n",
       "      <th>2</th>\n",
       "      <td>3</td>\n",
       "      <td>1</td>\n",
       "      <td>3</td>\n",
       "      <td>Heikkinen, Miss. Laina</td>\n",
       "      <td>female</td>\n",
       "      <td>26.0</td>\n",
       "      <td>0</td>\n",
       "      <td>0</td>\n",
       "      <td>STON/O2. 3101282</td>\n",
       "      <td>7.9250</td>\n",
       "      <td>NaN</td>\n",
       "      <td>S</td>\n",
       "    </tr>\n",
       "    <tr>\n",
       "      <th>3</th>\n",
       "      <td>4</td>\n",
       "      <td>1</td>\n",
       "      <td>1</td>\n",
       "      <td>Futrelle, Mrs. Jacques Heath (Lily May Peel)</td>\n",
       "      <td>female</td>\n",
       "      <td>35.0</td>\n",
       "      <td>1</td>\n",
       "      <td>0</td>\n",
       "      <td>113803</td>\n",
       "      <td>53.1000</td>\n",
       "      <td>C123</td>\n",
       "      <td>S</td>\n",
       "    </tr>\n",
       "    <tr>\n",
       "      <th>4</th>\n",
       "      <td>5</td>\n",
       "      <td>0</td>\n",
       "      <td>3</td>\n",
       "      <td>Allen, Mr. William Henry</td>\n",
       "      <td>male</td>\n",
       "      <td>35.0</td>\n",
       "      <td>0</td>\n",
       "      <td>0</td>\n",
       "      <td>373450</td>\n",
       "      <td>8.0500</td>\n",
       "      <td>NaN</td>\n",
       "      <td>S</td>\n",
       "    </tr>\n",
       "  </tbody>\n",
       "</table>\n",
       "</div>"
      ],
      "text/plain": [
       "   PassengerId  Survived  Pclass  \\\n",
       "0            1         0       3   \n",
       "1            2         1       1   \n",
       "2            3         1       3   \n",
       "3            4         1       1   \n",
       "4            5         0       3   \n",
       "\n",
       "                                                Name     Sex   Age  SibSp  \\\n",
       "0                            Braund, Mr. Owen Harris    male  22.0      1   \n",
       "1  Cumings, Mrs. John Bradley (Florence Briggs Th...  female  38.0      1   \n",
       "2                             Heikkinen, Miss. Laina  female  26.0      0   \n",
       "3       Futrelle, Mrs. Jacques Heath (Lily May Peel)  female  35.0      1   \n",
       "4                           Allen, Mr. William Henry    male  35.0      0   \n",
       "\n",
       "   Parch            Ticket     Fare Cabin Embarked  \n",
       "0      0         A/5 21171   7.2500   NaN        S  \n",
       "1      0          PC 17599  71.2833   C85        C  \n",
       "2      0  STON/O2. 3101282   7.9250   NaN        S  \n",
       "3      0            113803  53.1000  C123        S  \n",
       "4      0            373450   8.0500   NaN        S  "
      ]
     },
     "execution_count": 2,
     "metadata": {},
     "output_type": "execute_result"
    }
   ],
   "source": [
    "df = pd.read_csv('train.csv')\n",
    "df.head()"
   ]
  },
  {
   "cell_type": "markdown",
   "id": "893be8d6-eb82-4b08-9584-6b08c743768b",
   "metadata": {},
   "source": [
    "<b>Easy</b>\n",
    "Для данных с Титаника обучить модели логистической регресси и решающего дерева на 80% обучающей выборки и проверить результат на 20%. У какой модели результат лучше?"
   ]
  },
  {
   "cell_type": "code",
   "execution_count": 3,
   "id": "e1c8567d-c3b7-4be3-b4f2-887e853d1cf1",
   "metadata": {},
   "outputs": [
    {
     "name": "stdout",
     "output_type": "stream",
     "text": [
      "     Pclass  Sex   Age\n",
      "0         3    0  22.0\n",
      "1         1    1  38.0\n",
      "2         3    1  26.0\n",
      "3         1    1  35.0\n",
      "4         3    0  35.0\n",
      "..      ...  ...   ...\n",
      "886       2    0  27.0\n",
      "887       1    1  19.0\n",
      "888       3    1  28.0\n",
      "889       1    0  26.0\n",
      "890       3    0  32.0\n",
      "\n",
      "[891 rows x 3 columns]\n"
     ]
    },
    {
     "name": "stderr",
     "output_type": "stream",
     "text": [
      "C:\\Users\\Maria\\anaconda3\\lib\\site-packages\\pandas\\core\\indexing.py:1720: SettingWithCopyWarning: \n",
      "A value is trying to be set on a copy of a slice from a DataFrame.\n",
      "Try using .loc[row_indexer,col_indexer] = value instead\n",
      "\n",
      "See the caveats in the documentation: https://pandas.pydata.org/pandas-docs/stable/user_guide/indexing.html#returning-a-view-versus-a-copy\n",
      "  self._setitem_single_column(loc, value, pi)\n",
      "C:\\Users\\Maria\\anaconda3\\lib\\site-packages\\pandas\\core\\frame.py:4462: SettingWithCopyWarning: \n",
      "A value is trying to be set on a copy of a slice from a DataFrame\n",
      "\n",
      "See the caveats in the documentation: https://pandas.pydata.org/pandas-docs/stable/user_guide/indexing.html#returning-a-view-versus-a-copy\n",
      "  return super().fillna(\n"
     ]
    }
   ],
   "source": [
    "x_df = df[['Pclass','Sex','Age']]\n",
    "median_age = x_df['Age'].median()\n",
    "#print(\"Median age is {}\".format(median_age))\n",
    "x_df.loc[x_df['Sex'] == \"female\", 'Sex'] = 1\n",
    "x_df.loc[x_df['Sex'] == \"male\", 'Sex'] = 0\n",
    "x_df.fillna(median_age, inplace=True)\n",
    "x_df.head()\n",
    "print(x_df)"
   ]
  },
  {
   "cell_type": "code",
   "execution_count": 4,
   "id": "4a6322cd-78da-4451-84e1-a368ac67023a",
   "metadata": {},
   "outputs": [
    {
     "data": {
      "text/html": [
       "<div>\n",
       "<style scoped>\n",
       "    .dataframe tbody tr th:only-of-type {\n",
       "        vertical-align: middle;\n",
       "    }\n",
       "\n",
       "    .dataframe tbody tr th {\n",
       "        vertical-align: top;\n",
       "    }\n",
       "\n",
       "    .dataframe thead th {\n",
       "        text-align: right;\n",
       "    }\n",
       "</style>\n",
       "<table border=\"1\" class=\"dataframe\">\n",
       "  <thead>\n",
       "    <tr style=\"text-align: right;\">\n",
       "      <th></th>\n",
       "      <th>Survived</th>\n",
       "    </tr>\n",
       "  </thead>\n",
       "  <tbody>\n",
       "    <tr>\n",
       "      <th>0</th>\n",
       "      <td>0</td>\n",
       "    </tr>\n",
       "    <tr>\n",
       "      <th>1</th>\n",
       "      <td>1</td>\n",
       "    </tr>\n",
       "    <tr>\n",
       "      <th>2</th>\n",
       "      <td>1</td>\n",
       "    </tr>\n",
       "    <tr>\n",
       "      <th>3</th>\n",
       "      <td>1</td>\n",
       "    </tr>\n",
       "    <tr>\n",
       "      <th>4</th>\n",
       "      <td>0</td>\n",
       "    </tr>\n",
       "  </tbody>\n",
       "</table>\n",
       "</div>"
      ],
      "text/plain": [
       "   Survived\n",
       "0         0\n",
       "1         1\n",
       "2         1\n",
       "3         1\n",
       "4         0"
      ]
     },
     "execution_count": 4,
     "metadata": {},
     "output_type": "execute_result"
    }
   ],
   "source": [
    "y_df = df[['Survived']]\n",
    "y_df.head()"
   ]
  },
  {
   "cell_type": "code",
   "execution_count": 5,
   "id": "e6676911-ccab-4eaf-b83f-7519200cb809",
   "metadata": {},
   "outputs": [
    {
     "data": {
      "text/plain": [
       "((712, 3), (179, 3))"
      ]
     },
     "execution_count": 5,
     "metadata": {},
     "output_type": "execute_result"
    }
   ],
   "source": [
    "x_train, x_test, y_train, y_test = train_test_split(x_df, y_df, train_size=0.8)\n",
    "x_train.shape, x_test.shape"
   ]
  },
  {
   "cell_type": "code",
   "execution_count": 9,
   "id": "4f2a3002-942d-419e-aca6-f65bc006d01a",
   "metadata": {},
   "outputs": [
    {
     "name": "stdout",
     "output_type": "stream",
     "text": [
      "0.776536312849162\n"
     ]
    },
    {
     "name": "stderr",
     "output_type": "stream",
     "text": [
      "C:\\Users\\Maria\\anaconda3\\lib\\site-packages\\sklearn\\utils\\validation.py:63: DataConversionWarning: A column-vector y was passed when a 1d array was expected. Please change the shape of y to (n_samples, ), for example using ravel().\n",
      "  return f(*args, **kwargs)\n"
     ]
    }
   ],
   "source": [
    "from sklearn.metrics import accuracy_score, confusion_matrix\n",
    "model1 = LogisticRegression(max_iter=1000)\n",
    "model1.fit(x_train, y_train)\n",
    "y1_pred = model1.predict(x_test)\n",
    "result1 = accuracy_score(y1_pred, y_test)\n",
    "print(result1)"
   ]
  },
  {
   "cell_type": "code",
   "execution_count": 17,
   "id": "64b41b96-5090-41a0-bbda-2b33336066fe",
   "metadata": {},
   "outputs": [
    {
     "name": "stdout",
     "output_type": "stream",
     "text": [
      "0.7877094972067039\n"
     ]
    }
   ],
   "source": [
    "model2 = DecisionTreeClassifier(max_depth=15)\n",
    "model2.fit(x_train, y_train)\n",
    "y2_pred = model2.predict(x_test)\n",
    "result2 = accuracy_score(y2_pred, y_test)\n",
    "print(result2)"
   ]
  },
  {
   "cell_type": "code",
   "execution_count": 18,
   "id": "6db75423-f332-4b48-aca8-5ae6aed41ce4",
   "metadata": {},
   "outputs": [
    {
     "name": "stdout",
     "output_type": "stream",
     "text": [
      "У модели решающего дерева результат лучше\n"
     ]
    }
   ],
   "source": [
    "if result1 > result2:\n",
    "    print ('У модели логистической регрессии результат лучше')\n",
    "else:\n",
    "    print ('У модели решающего дерева результат лучше')"
   ]
  },
  {
   "cell_type": "markdown",
   "id": "74787443-5057-4df0-9e55-6c9e6b3175e2",
   "metadata": {},
   "source": [
    "<b>Normal ИСПРАВЛЕННОЕ</b>\n",
    "Используя кросс-валидацию, применить к данным Титаника модель RandomForestClassifier. Сравнить с первыми двумя моделями."
   ]
  },
  {
   "cell_type": "code",
   "execution_count": 19,
   "id": "87214391-0c42-4fdb-890a-e3d723a4bd4e",
   "metadata": {},
   "outputs": [],
   "source": [
    "from sklearn.ensemble import RandomForestClassifier\n",
    "from sklearn.model_selection import cross_val_score"
   ]
  },
  {
   "cell_type": "code",
   "execution_count": 20,
   "id": "28e73856-6632-4d34-bfb1-6d9b768a9b82",
   "metadata": {},
   "outputs": [
    {
     "name": "stderr",
     "output_type": "stream",
     "text": [
      "<ipython-input-20-c93ae7fc3891>:2: DataConversionWarning: A column-vector y was passed when a 1d array was expected. Please change the shape of y to (n_samples,), for example using ravel().\n",
      "  model3.fit(x_train, y_train)\n"
     ]
    }
   ],
   "source": [
    "model3 = RandomForestClassifier(n_estimators=10000)\n",
    "model3.fit(x_train, y_train)\n",
    "y3_pred = model3.predict(x_test)\n"
   ]
  },
  {
   "cell_type": "code",
   "execution_count": 21,
   "id": "96408288-50bd-40c6-81ab-61b9b449c13e",
   "metadata": {},
   "outputs": [],
   "source": [
    "cross_val1 = cross_val_score(model1, x_train, y_train.values.ravel())\n",
    "result_cross1 = cross_val1.mean()\n",
    "cross_val2 = cross_val_score(model2, x_train, y_train.values.ravel())\n",
    "result_cross2 = cross_val2.mean()"
   ]
  },
  {
   "cell_type": "code",
   "execution_count": 22,
   "id": "83acbbf5-8e77-49f9-a25d-c8cea3d4173e",
   "metadata": {},
   "outputs": [],
   "source": [
    "cross_val3 = cross_val_score(model3, x_train, y_train.values.ravel())\n",
    "result_cross3 = cross_val3.mean()"
   ]
  },
  {
   "cell_type": "code",
   "execution_count": 24,
   "id": "d58ecdec-090a-40cb-a57c-c59aef17635d",
   "metadata": {},
   "outputs": [
    {
     "name": "stdout",
     "output_type": "stream",
     "text": [
      "Кросс-валидация LogisticRegression: [0.78321678 0.81818182 0.76760563 0.81690141 0.81690141]\n",
      "Среднее по кросс-валидации LogisticRegression: 0.8005614104205654\n",
      "Кросс-валидация DecisionTreeClassifier: [0.7972028  0.81818182 0.8028169  0.71830986 0.77464789]\n",
      "Среднее по кросс-валидации DecisionTreeClassifier: 0.7822318526543878\n",
      "Кросс-валидация RandomForest: [0.8041958  0.82517483 0.80985915 0.76056338 0.80985915]\n",
      "Среднее по кросс-валидации RandomForest: 0.8019304639022948\n"
     ]
    }
   ],
   "source": [
    "print('Кросс-валидация LogisticRegression:',cross_val1)\n",
    "print('Среднее по кросс-валидации LogisticRegression:', result_cross1)\n",
    "\n",
    "print('Кросс-валидация DecisionTreeClassifier:',cross_val2)\n",
    "print('Среднее по кросс-валидации DecisionTreeClassifier:', result_cross2)\n",
    "\n",
    "print('Кросс-валидация RandomForest:',cross_val3)\n",
    "print('Среднее по кросс-валидации RandomForest:', result_cross3)\n"
   ]
  },
  {
   "cell_type": "code",
   "execution_count": 26,
   "id": "a41b08c0-35b0-48b8-b2b9-4fae45cfb4fe",
   "metadata": {},
   "outputs": [
    {
     "name": "stdout",
     "output_type": "stream",
     "text": [
      "У модели случайного леса результат лучше  0.8019304639022948\n"
     ]
    }
   ],
   "source": [
    "list = (result_cross1, result_cross2, result_cross3)\n",
    "m = max(list)\n",
    "if m == result_cross1:\n",
    "    print ('У модели логистической регрессии результат лучше ', result_cross1)\n",
    "else:\n",
    "    if m == result_cross2:\n",
    "        print ('У модели решающего дерева результат лучше ', result_cross2)\n",
    "    else:\n",
    "        print('У модели случайного леса результат лучше ', result_cross3)"
   ]
  },
  {
   "cell_type": "code",
   "execution_count": null,
   "id": "a8a6f33e-8460-452c-8e90-e3d62a35d4ca",
   "metadata": {},
   "outputs": [],
   "source": []
  }
 ],
 "metadata": {
  "kernelspec": {
   "display_name": "Python 3",
   "language": "python",
   "name": "python3"
  },
  "language_info": {
   "codemirror_mode": {
    "name": "ipython",
    "version": 3
   },
   "file_extension": ".py",
   "mimetype": "text/x-python",
   "name": "python",
   "nbconvert_exporter": "python",
   "pygments_lexer": "ipython3",
   "version": "3.8.8"
  }
 },
 "nbformat": 4,
 "nbformat_minor": 5
}
