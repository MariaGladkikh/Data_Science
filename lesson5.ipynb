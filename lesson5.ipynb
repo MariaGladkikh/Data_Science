{
 "cells": [
  {
   "cell_type": "code",
   "execution_count": 52,
   "id": "841e2f40-1cd3-453b-b0a0-0938c6a17f1d",
   "metadata": {},
   "outputs": [],
   "source": [
    "import pandas as pd\n",
    "import numpy as np\n",
    "import matplotlib.pyplot as plt\n",
    "import seaborn as sn\n",
    "import scipy\n",
    "import scipy.stats"
   ]
  },
  {
   "cell_type": "markdown",
   "id": "fdcebc80-e026-4cac-9fc6-e53bf37036a8",
   "metadata": {},
   "source": [
    "<b>Easy ИСПРАВЛЕННОЕ</b> \n",
    "\n",
    "Оценить с помощью доверительных интервалов:\n",
    " - выживаемость всех пассажиров (оценить среднее по isSurvived)\n",
    " - выживаемость женщин\n",
    " - выживаемость людей с каютами первого класса\n",
    "\n",
    "Ответить на вопросы:\n",
    "- какой вариант оценки доверительных интервалов нужно использовать в данной задаче и почему?\n",
    "- какая из ошибок более критична для данной задачи - I или II рода?"
   ]
  },
  {
   "cell_type": "code",
   "execution_count": 53,
   "id": "296a6838-fd29-40f3-ada7-0cb6230155bf",
   "metadata": {},
   "outputs": [
    {
     "data": {
      "text/html": [
       "<div>\n",
       "<style scoped>\n",
       "    .dataframe tbody tr th:only-of-type {\n",
       "        vertical-align: middle;\n",
       "    }\n",
       "\n",
       "    .dataframe tbody tr th {\n",
       "        vertical-align: top;\n",
       "    }\n",
       "\n",
       "    .dataframe thead th {\n",
       "        text-align: right;\n",
       "    }\n",
       "</style>\n",
       "<table border=\"1\" class=\"dataframe\">\n",
       "  <thead>\n",
       "    <tr style=\"text-align: right;\">\n",
       "      <th></th>\n",
       "      <th>PassengerId</th>\n",
       "      <th>Survived</th>\n",
       "      <th>Pclass</th>\n",
       "      <th>Name</th>\n",
       "      <th>Sex</th>\n",
       "      <th>Age</th>\n",
       "      <th>SibSp</th>\n",
       "      <th>Parch</th>\n",
       "      <th>Ticket</th>\n",
       "      <th>Fare</th>\n",
       "      <th>Cabin</th>\n",
       "      <th>Embarked</th>\n",
       "    </tr>\n",
       "  </thead>\n",
       "  <tbody>\n",
       "    <tr>\n",
       "      <th>0</th>\n",
       "      <td>1</td>\n",
       "      <td>0</td>\n",
       "      <td>3</td>\n",
       "      <td>Braund, Mr. Owen Harris</td>\n",
       "      <td>male</td>\n",
       "      <td>22.0</td>\n",
       "      <td>1</td>\n",
       "      <td>0</td>\n",
       "      <td>A/5 21171</td>\n",
       "      <td>7.2500</td>\n",
       "      <td>NaN</td>\n",
       "      <td>S</td>\n",
       "    </tr>\n",
       "    <tr>\n",
       "      <th>1</th>\n",
       "      <td>2</td>\n",
       "      <td>1</td>\n",
       "      <td>1</td>\n",
       "      <td>Cumings, Mrs. John Bradley (Florence Briggs Th...</td>\n",
       "      <td>female</td>\n",
       "      <td>38.0</td>\n",
       "      <td>1</td>\n",
       "      <td>0</td>\n",
       "      <td>PC 17599</td>\n",
       "      <td>71.2833</td>\n",
       "      <td>C85</td>\n",
       "      <td>C</td>\n",
       "    </tr>\n",
       "    <tr>\n",
       "      <th>2</th>\n",
       "      <td>3</td>\n",
       "      <td>1</td>\n",
       "      <td>3</td>\n",
       "      <td>Heikkinen, Miss. Laina</td>\n",
       "      <td>female</td>\n",
       "      <td>26.0</td>\n",
       "      <td>0</td>\n",
       "      <td>0</td>\n",
       "      <td>STON/O2. 3101282</td>\n",
       "      <td>7.9250</td>\n",
       "      <td>NaN</td>\n",
       "      <td>S</td>\n",
       "    </tr>\n",
       "    <tr>\n",
       "      <th>3</th>\n",
       "      <td>4</td>\n",
       "      <td>1</td>\n",
       "      <td>1</td>\n",
       "      <td>Futrelle, Mrs. Jacques Heath (Lily May Peel)</td>\n",
       "      <td>female</td>\n",
       "      <td>35.0</td>\n",
       "      <td>1</td>\n",
       "      <td>0</td>\n",
       "      <td>113803</td>\n",
       "      <td>53.1000</td>\n",
       "      <td>C123</td>\n",
       "      <td>S</td>\n",
       "    </tr>\n",
       "    <tr>\n",
       "      <th>4</th>\n",
       "      <td>5</td>\n",
       "      <td>0</td>\n",
       "      <td>3</td>\n",
       "      <td>Allen, Mr. William Henry</td>\n",
       "      <td>male</td>\n",
       "      <td>35.0</td>\n",
       "      <td>0</td>\n",
       "      <td>0</td>\n",
       "      <td>373450</td>\n",
       "      <td>8.0500</td>\n",
       "      <td>NaN</td>\n",
       "      <td>S</td>\n",
       "    </tr>\n",
       "  </tbody>\n",
       "</table>\n",
       "</div>"
      ],
      "text/plain": [
       "   PassengerId  Survived  Pclass  \\\n",
       "0            1         0       3   \n",
       "1            2         1       1   \n",
       "2            3         1       3   \n",
       "3            4         1       1   \n",
       "4            5         0       3   \n",
       "\n",
       "                                                Name     Sex   Age  SibSp  \\\n",
       "0                            Braund, Mr. Owen Harris    male  22.0      1   \n",
       "1  Cumings, Mrs. John Bradley (Florence Briggs Th...  female  38.0      1   \n",
       "2                             Heikkinen, Miss. Laina  female  26.0      0   \n",
       "3       Futrelle, Mrs. Jacques Heath (Lily May Peel)  female  35.0      1   \n",
       "4                           Allen, Mr. William Henry    male  35.0      0   \n",
       "\n",
       "   Parch            Ticket     Fare Cabin Embarked  \n",
       "0      0         A/5 21171   7.2500   NaN        S  \n",
       "1      0          PC 17599  71.2833   C85        C  \n",
       "2      0  STON/O2. 3101282   7.9250   NaN        S  \n",
       "3      0            113803  53.1000  C123        S  \n",
       "4      0            373450   8.0500   NaN        S  "
      ]
     },
     "execution_count": 53,
     "metadata": {},
     "output_type": "execute_result"
    }
   ],
   "source": [
    "df = pd.read_csv('train.csv')\n",
    "df.head()"
   ]
  },
  {
   "cell_type": "code",
   "execution_count": 54,
   "id": "33b06e9d-7110-4a25-9b75-812398aca6a6",
   "metadata": {},
   "outputs": [
    {
     "data": {
      "text/html": [
       "<div>\n",
       "<style scoped>\n",
       "    .dataframe tbody tr th:only-of-type {\n",
       "        vertical-align: middle;\n",
       "    }\n",
       "\n",
       "    .dataframe tbody tr th {\n",
       "        vertical-align: top;\n",
       "    }\n",
       "\n",
       "    .dataframe thead th {\n",
       "        text-align: right;\n",
       "    }\n",
       "</style>\n",
       "<table border=\"1\" class=\"dataframe\">\n",
       "  <thead>\n",
       "    <tr style=\"text-align: right;\">\n",
       "      <th></th>\n",
       "      <th>Survived</th>\n",
       "    </tr>\n",
       "  </thead>\n",
       "  <tbody>\n",
       "    <tr>\n",
       "      <th>0</th>\n",
       "      <td>0</td>\n",
       "    </tr>\n",
       "    <tr>\n",
       "      <th>1</th>\n",
       "      <td>1</td>\n",
       "    </tr>\n",
       "    <tr>\n",
       "      <th>2</th>\n",
       "      <td>1</td>\n",
       "    </tr>\n",
       "    <tr>\n",
       "      <th>3</th>\n",
       "      <td>1</td>\n",
       "    </tr>\n",
       "    <tr>\n",
       "      <th>4</th>\n",
       "      <td>0</td>\n",
       "    </tr>\n",
       "    <tr>\n",
       "      <th>...</th>\n",
       "      <td>...</td>\n",
       "    </tr>\n",
       "    <tr>\n",
       "      <th>886</th>\n",
       "      <td>0</td>\n",
       "    </tr>\n",
       "    <tr>\n",
       "      <th>887</th>\n",
       "      <td>1</td>\n",
       "    </tr>\n",
       "    <tr>\n",
       "      <th>888</th>\n",
       "      <td>0</td>\n",
       "    </tr>\n",
       "    <tr>\n",
       "      <th>889</th>\n",
       "      <td>1</td>\n",
       "    </tr>\n",
       "    <tr>\n",
       "      <th>890</th>\n",
       "      <td>0</td>\n",
       "    </tr>\n",
       "  </tbody>\n",
       "</table>\n",
       "<p>891 rows × 1 columns</p>\n",
       "</div>"
      ],
      "text/plain": [
       "     Survived\n",
       "0           0\n",
       "1           1\n",
       "2           1\n",
       "3           1\n",
       "4           0\n",
       "..        ...\n",
       "886         0\n",
       "887         1\n",
       "888         0\n",
       "889         1\n",
       "890         0\n",
       "\n",
       "[891 rows x 1 columns]"
      ]
     },
     "execution_count": 54,
     "metadata": {},
     "output_type": "execute_result"
    }
   ],
   "source": [
    "all_df = df[['Survived']]\n",
    "all_df"
   ]
  },
  {
   "cell_type": "code",
   "execution_count": 55,
   "id": "d1513ead-32c9-4103-9324-b6e38675065d",
   "metadata": {},
   "outputs": [],
   "source": [
    "n=len(all_df)\n",
    "mean = all_df.mean()\n",
    "std = all_df.std()\n",
    "alpha = 0.05"
   ]
  },
  {
   "cell_type": "code",
   "execution_count": 56,
   "id": "42a092e0-5239-4b7c-a0ff-6351242b001a",
   "metadata": {},
   "outputs": [
    {
     "name": "stdout",
     "output_type": "stream",
     "text": [
      "Доверительный интервал по выживаемости всех пассажиров -  (array([0.3518446]), array([0.41583217]))\n"
     ]
    }
   ],
   "source": [
    "from scipy.stats import t\n",
    "import math\n",
    "sc = std/math.sqrt(n)\n",
    "l = t.interval(1 - alpha, n - 1, loc=mean, scale=sc)\n",
    "print('Доверительный интервал по выживаемости всех пассажиров - ', l)\n"
   ]
  },
  {
   "cell_type": "code",
   "execution_count": 57,
   "id": "da809fa6-18fc-46dc-b8cb-8dac99275a3a",
   "metadata": {},
   "outputs": [
    {
     "data": {
      "text/html": [
       "<div>\n",
       "<style scoped>\n",
       "    .dataframe tbody tr th:only-of-type {\n",
       "        vertical-align: middle;\n",
       "    }\n",
       "\n",
       "    .dataframe tbody tr th {\n",
       "        vertical-align: top;\n",
       "    }\n",
       "\n",
       "    .dataframe thead th {\n",
       "        text-align: right;\n",
       "    }\n",
       "</style>\n",
       "<table border=\"1\" class=\"dataframe\">\n",
       "  <thead>\n",
       "    <tr style=\"text-align: right;\">\n",
       "      <th></th>\n",
       "      <th>Survived</th>\n",
       "      <th>Sex</th>\n",
       "    </tr>\n",
       "  </thead>\n",
       "  <tbody>\n",
       "    <tr>\n",
       "      <th>1</th>\n",
       "      <td>1</td>\n",
       "      <td>female</td>\n",
       "    </tr>\n",
       "    <tr>\n",
       "      <th>2</th>\n",
       "      <td>1</td>\n",
       "      <td>female</td>\n",
       "    </tr>\n",
       "    <tr>\n",
       "      <th>3</th>\n",
       "      <td>1</td>\n",
       "      <td>female</td>\n",
       "    </tr>\n",
       "    <tr>\n",
       "      <th>8</th>\n",
       "      <td>1</td>\n",
       "      <td>female</td>\n",
       "    </tr>\n",
       "    <tr>\n",
       "      <th>9</th>\n",
       "      <td>1</td>\n",
       "      <td>female</td>\n",
       "    </tr>\n",
       "    <tr>\n",
       "      <th>...</th>\n",
       "      <td>...</td>\n",
       "      <td>...</td>\n",
       "    </tr>\n",
       "    <tr>\n",
       "      <th>880</th>\n",
       "      <td>1</td>\n",
       "      <td>female</td>\n",
       "    </tr>\n",
       "    <tr>\n",
       "      <th>882</th>\n",
       "      <td>0</td>\n",
       "      <td>female</td>\n",
       "    </tr>\n",
       "    <tr>\n",
       "      <th>885</th>\n",
       "      <td>0</td>\n",
       "      <td>female</td>\n",
       "    </tr>\n",
       "    <tr>\n",
       "      <th>887</th>\n",
       "      <td>1</td>\n",
       "      <td>female</td>\n",
       "    </tr>\n",
       "    <tr>\n",
       "      <th>888</th>\n",
       "      <td>0</td>\n",
       "      <td>female</td>\n",
       "    </tr>\n",
       "  </tbody>\n",
       "</table>\n",
       "<p>314 rows × 2 columns</p>\n",
       "</div>"
      ],
      "text/plain": [
       "     Survived     Sex\n",
       "1           1  female\n",
       "2           1  female\n",
       "3           1  female\n",
       "8           1  female\n",
       "9           1  female\n",
       "..        ...     ...\n",
       "880         1  female\n",
       "882         0  female\n",
       "885         0  female\n",
       "887         1  female\n",
       "888         0  female\n",
       "\n",
       "[314 rows x 2 columns]"
      ]
     },
     "execution_count": 57,
     "metadata": {},
     "output_type": "execute_result"
    }
   ],
   "source": [
    "female_df = df[['Survived','Sex']].query('Sex == \"female\"')\n",
    "female_df"
   ]
  },
  {
   "cell_type": "code",
   "execution_count": 58,
   "id": "0fcbd4c0-9b0f-470a-ac90-ad3fae823c65",
   "metadata": {},
   "outputs": [],
   "source": [
    "nf=len(female_df)\n",
    "meanf = female_df.mean()\n",
    "stdf = female_df.std()\n",
    "alpha = 0.05\n",
    "scf = stdf/math.sqrt(nf)"
   ]
  },
  {
   "cell_type": "code",
   "execution_count": 59,
   "id": "5b4cb7f5-6aa5-446c-acab-a2e429fade3a",
   "metadata": {},
   "outputs": [
    {
     "name": "stdout",
     "output_type": "stream",
     "text": [
      "Доверительный интервал по выживаемости женщин -  (array([0.69338077]), array([0.79069566]))\n"
     ]
    }
   ],
   "source": [
    "lff = t.interval(1 - alpha, nf - 1, loc=meanf, scale=scf)\n",
    "print('Доверительный интервал по выживаемости женщин - ', lff)"
   ]
  },
  {
   "cell_type": "code",
   "execution_count": 60,
   "id": "21571e44-590a-4183-84e4-a4f113746845",
   "metadata": {},
   "outputs": [
    {
     "data": {
      "text/html": [
       "<div>\n",
       "<style scoped>\n",
       "    .dataframe tbody tr th:only-of-type {\n",
       "        vertical-align: middle;\n",
       "    }\n",
       "\n",
       "    .dataframe tbody tr th {\n",
       "        vertical-align: top;\n",
       "    }\n",
       "\n",
       "    .dataframe thead th {\n",
       "        text-align: right;\n",
       "    }\n",
       "</style>\n",
       "<table border=\"1\" class=\"dataframe\">\n",
       "  <thead>\n",
       "    <tr style=\"text-align: right;\">\n",
       "      <th></th>\n",
       "      <th>Survived</th>\n",
       "      <th>Pclass</th>\n",
       "    </tr>\n",
       "  </thead>\n",
       "  <tbody>\n",
       "    <tr>\n",
       "      <th>1</th>\n",
       "      <td>1</td>\n",
       "      <td>1</td>\n",
       "    </tr>\n",
       "    <tr>\n",
       "      <th>3</th>\n",
       "      <td>1</td>\n",
       "      <td>1</td>\n",
       "    </tr>\n",
       "    <tr>\n",
       "      <th>6</th>\n",
       "      <td>0</td>\n",
       "      <td>1</td>\n",
       "    </tr>\n",
       "    <tr>\n",
       "      <th>11</th>\n",
       "      <td>1</td>\n",
       "      <td>1</td>\n",
       "    </tr>\n",
       "    <tr>\n",
       "      <th>23</th>\n",
       "      <td>1</td>\n",
       "      <td>1</td>\n",
       "    </tr>\n",
       "    <tr>\n",
       "      <th>...</th>\n",
       "      <td>...</td>\n",
       "      <td>...</td>\n",
       "    </tr>\n",
       "    <tr>\n",
       "      <th>871</th>\n",
       "      <td>1</td>\n",
       "      <td>1</td>\n",
       "    </tr>\n",
       "    <tr>\n",
       "      <th>872</th>\n",
       "      <td>0</td>\n",
       "      <td>1</td>\n",
       "    </tr>\n",
       "    <tr>\n",
       "      <th>879</th>\n",
       "      <td>1</td>\n",
       "      <td>1</td>\n",
       "    </tr>\n",
       "    <tr>\n",
       "      <th>887</th>\n",
       "      <td>1</td>\n",
       "      <td>1</td>\n",
       "    </tr>\n",
       "    <tr>\n",
       "      <th>889</th>\n",
       "      <td>1</td>\n",
       "      <td>1</td>\n",
       "    </tr>\n",
       "  </tbody>\n",
       "</table>\n",
       "<p>216 rows × 2 columns</p>\n",
       "</div>"
      ],
      "text/plain": [
       "     Survived  Pclass\n",
       "1           1       1\n",
       "3           1       1\n",
       "6           0       1\n",
       "11          1       1\n",
       "23          1       1\n",
       "..        ...     ...\n",
       "871         1       1\n",
       "872         0       1\n",
       "879         1       1\n",
       "887         1       1\n",
       "889         1       1\n",
       "\n",
       "[216 rows x 2 columns]"
      ]
     },
     "execution_count": 60,
     "metadata": {},
     "output_type": "execute_result"
    }
   ],
   "source": [
    "class_df = df[['Survived','Pclass']].query('Pclass == 1')\n",
    "class_df"
   ]
  },
  {
   "cell_type": "code",
   "execution_count": 61,
   "id": "75d6045a-d454-47dd-b8d8-14f5af86a298",
   "metadata": {},
   "outputs": [
    {
     "name": "stdout",
     "output_type": "stream",
     "text": [
      "Доверительный интервал по выживаемости пассажиров 1 класса -  (0.5647152190969751, 0.6945440401622842)\n"
     ]
    }
   ],
   "source": [
    "nc=len(class_df)\n",
    "meanc = class_df['Survived'].mean()\n",
    "stdc = class_df['Survived'].std()\n",
    "alpha = 0.05\n",
    "scc = stdc/math.sqrt(nc)\n",
    "lc = t.interval(1 - alpha, nc - 1, loc=meanc, scale=scc)\n",
    "print('Доверительный интервал по выживаемости пассажиров 1 класса - ', lc)"
   ]
  },
  {
   "cell_type": "markdown",
   "id": "8ae1f613-4cbe-408a-aad7-ac004bc80072",
   "metadata": {},
   "source": [
    "<b>Ответы на вопросы</b>\n",
    "1. В данной задаче мы используем вариант, когда настоящая дисперсия неизвестна,  и мы считаем по данным среднеквадратичное отклонение.используем T-распределение Стьюдента, которое похоже на нормальное распределение. \n",
    "Используем T-распределение Стьюдента, которое похоже на нормальное распределение.\n",
    "2. Ошибка I рода - предположить, что пассажир выживет, а на самом деле он не выживет.\n",
    "Ошибка II рода - предположить, что пассажир не выживет, а он на самом деле выживет.\n",
    "В данном случае критичнее ошибка I рода, потому что она влияет на оценку общей выживаемости, что является фактором, который мы исследуем."
   ]
  },
  {
   "cell_type": "markdown",
   "id": "a374e740-3da9-4d3b-b13c-b6b3c1c89451",
   "metadata": {},
   "source": [
    "<b>Normal</b>\n",
    " - Проверить гипотезу о том, что женщины выживают чаще мужчин с уровнем значимости 0.05\n",
    " - Проверить гипотезу о том, что дети выживают чаще, чем взрослые"
   ]
  },
  {
   "cell_type": "markdown",
   "id": "34ecabd4-e54c-406f-b134-1fdda3c00bb8",
   "metadata": {},
   "source": [
    "𝐻0 : женщины выживают с той же вероятностью, что и мужчины\n",
    "\n",
    "𝐻1 : женщины выживают чаще, чем мужчины"
   ]
  },
  {
   "cell_type": "code",
   "execution_count": 11,
   "id": "019eb320-edca-4630-8720-7f1057466145",
   "metadata": {},
   "outputs": [],
   "source": [
    "female_df = df[['Survived','Sex']].query('Sex == \"female\"')\n",
    "male_df = df[['Survived','Sex']].query('Sex == \"male\"')"
   ]
  },
  {
   "cell_type": "code",
   "execution_count": 16,
   "id": "52b2ba2f-c8e8-4bdc-8f2d-295403e13deb",
   "metadata": {},
   "outputs": [
    {
     "data": {
      "text/plain": [
       "Ttest_indResult(statistic=19.29781655012335, pvalue=1.4060661308802594e-69)"
      ]
     },
     "execution_count": 16,
     "metadata": {},
     "output_type": "execute_result"
    }
   ],
   "source": [
    "scipy.stats.ttest_ind(female_df['Survived'], male_df['Survived'])"
   ]
  },
  {
   "cell_type": "code",
   "execution_count": 17,
   "id": "3eec04dc-8fef-4d09-aeae-04829174469a",
   "metadata": {},
   "outputs": [
    {
     "name": "stdout",
     "output_type": "stream",
     "text": [
      "p-value меньше уровня значимости, значит мы можем отвергнуть нулевую гипотезу\n"
     ]
    }
   ],
   "source": [
    "print ('p-value меньше уровня значимости, значит мы можем отвергнуть нулевую гипотезу')"
   ]
  },
  {
   "cell_type": "markdown",
   "id": "7b9c8601-6df2-4054-b25b-b2bc27d56b4f",
   "metadata": {},
   "source": [
    "𝐻0 : дети выживают с той же вероятностью, что и взрослые\n",
    "\n",
    "𝐻1 : дети выживают чаще, чем взрослые"
   ]
  },
  {
   "cell_type": "code",
   "execution_count": 18,
   "id": "1e14cf8c-1b96-4678-9626-128b7a3b1825",
   "metadata": {},
   "outputs": [],
   "source": [
    "child_df = df[['Survived','Age']].query('Age < 18')\n",
    "adult_df = df[['Survived','Age']].query('Age >= 18')"
   ]
  },
  {
   "cell_type": "code",
   "execution_count": 19,
   "id": "cbc0b310-de6e-4464-a94d-cfb4db408726",
   "metadata": {},
   "outputs": [
    {
     "data": {
      "text/plain": [
       "Ttest_indResult(statistic=3.171077486504452, pvalue=0.0015838873450969102)"
      ]
     },
     "execution_count": 19,
     "metadata": {},
     "output_type": "execute_result"
    }
   ],
   "source": [
    "scipy.stats.ttest_ind(child_df['Survived'], adult_df['Survived'])"
   ]
  },
  {
   "cell_type": "code",
   "execution_count": 20,
   "id": "f01f862f-284b-4e4e-82c1-f192d31dc5b8",
   "metadata": {},
   "outputs": [
    {
     "name": "stdout",
     "output_type": "stream",
     "text": [
      "p-value меньше уровня значимости, значит мы можем отвергнуть нулевую гипотезу\n"
     ]
    }
   ],
   "source": [
    "print ('p-value меньше уровня значимости, значит мы можем отвергнуть нулевую гипотезу')"
   ]
  },
  {
   "cell_type": "code",
   "execution_count": null,
   "id": "fd710ab9-bca1-4a4e-bef5-6778f756feec",
   "metadata": {},
   "outputs": [],
   "source": []
  }
 ],
 "metadata": {
  "kernelspec": {
   "display_name": "Python 3",
   "language": "python",
   "name": "python3"
  },
  "language_info": {
   "codemirror_mode": {
    "name": "ipython",
    "version": 3
   },
   "file_extension": ".py",
   "mimetype": "text/x-python",
   "name": "python",
   "nbconvert_exporter": "python",
   "pygments_lexer": "ipython3",
   "version": "3.8.8"
  },
  "toc-autonumbering": true
 },
 "nbformat": 4,
 "nbformat_minor": 5
}
