{
 "cells": [
  {
   "cell_type": "markdown",
   "id": "a501abcf-f225-4e9d-9451-92cb6e89ad61",
   "metadata": {},
   "source": [
    "Нужно придумать небольшую базу данных и написать к ней запросы.\n",
    "В базе должно быть минимум 4 таблицы и хотя бы две связи вида one-to-many или many-to-many. Можно решить как при помощи pandas, так и при помощи SQL.\n",
    "Запросы должны быть осмысленными и должны решать какую-то задачу.\n",
    "\n",
    "<b>Easy</b>\n",
    "Выгрузить данные и отфильтровать их по какому-то значению.\n",
    "Пример запроса с БД, приведенной выше: вывести учителей старше 30 лет.\n",
    "\n",
    "<b>Normal</b>\n",
    "Написать запрос на объединение двух или более таблиц, также в запросе должна быть фильтрация\n",
    "Пример запроса с БД, приведенной выше: найти имя учителя моложе 30 лет, который ведет математику"
   ]
  },
  {
   "cell_type": "code",
   "execution_count": 89,
   "id": "c66ccaf7-3949-4180-96ca-049c0cc5a723",
   "metadata": {},
   "outputs": [],
   "source": [
    "import numpy as np\n",
    "import pandas as pd\n",
    "import sqlite3\n",
    "import random"
   ]
  },
  {
   "cell_type": "code",
   "execution_count": 90,
   "id": "5944a170-46a9-419a-b825-2199aa4fa4a5",
   "metadata": {},
   "outputs": [],
   "source": [
    "sql = sqlite3.connect('database/trade.db')"
   ]
  },
  {
   "cell_type": "code",
   "execution_count": 91,
   "id": "e3afc632-07ce-46ee-bbe7-eb0896c54595",
   "metadata": {},
   "outputs": [
    {
     "name": "stdout",
     "output_type": "stream",
     "text": [
      "  commodity_name  price\n",
      "0         Hill's    250\n",
      "1     1St Choice    148\n",
      "2    Royal Canin    185\n",
      "3       EUKANUBA    213\n",
      "4       Grandorf    348\n",
      "5        Farmina    164\n",
      "  company_name         INN\n",
      "0     Zooptorg  7723517121\n",
      "1         Филя  7816407523\n",
      "2      PetShop  5032256149\n",
      "3     Бетховен  5032327858\n",
      "4  Четыре лапы  7801403117\n"
     ]
    }
   ],
   "source": [
    "commodities_names = [\"Hill's\", \"1St Choice\", \"Royal Canin\", \"EUKANUBA\", \"Grandorf\", \"Farmina\"]\n",
    "commodities_prices = [250, 148, 185, 213, 348, 164]\n",
    "\n",
    "companies_names = [\"Zooptorg\", \"Филя\", \"PetShop\", \"Бетховен\", \"Четыре лапы\"]\n",
    "companies_INNs = [\"7723517121\", \"7816407523\",\"5032256149\", \"5032327858\", \"7801403117\"]\n",
    "commodities = pd.DataFrame({'commodity_name': commodities_names, 'price': commodities_prices})\n",
    "companies = pd.DataFrame({'company_name': companies_names, 'INN':companies_INNs})\n",
    "commodities.to_sql('commodities', sql, index_label='id', if_exists='replace')\n",
    "companies.to_sql('companies', sql, index_label='id', if_exists='replace')\n",
    "print (commodities)\n",
    "print(companies)\n"
   ]
  },
  {
   "cell_type": "code",
   "execution_count": 92,
   "id": "e4221d13-d25d-427d-b389-0e4cd26d6b9f",
   "metadata": {},
   "outputs": [
    {
     "name": "stdout",
     "output_type": "stream",
     "text": [
      "          date  number  company_id     status\n",
      "0   22.10.2021     343           3        new\n",
      "1   22.10.2021     344           4    shipped\n",
      "2   23.10.2021     345           4  completed\n",
      "3   23.10.2021     346           2    shipped\n",
      "4   23.10.2021     347           4        new\n",
      "5   24.10.2021     348           1  completed\n",
      "6   24.10.2021     349           1       paid\n",
      "7   25.10.2021     350           1    shipped\n",
      "8   25.10.2021     351           1       paid\n",
      "9   25.10.2021     352           4        new\n",
      "10  25.10.2021     353           1    shipped\n",
      "11  25.10.2021     354           1    shipped\n",
      "12  27.10.2021     355           2  completed\n",
      "13  28.10.2021     356           4       paid\n",
      "14  28.10.2021     357           1    shipped\n",
      "15  28.10.2021     358           2  completed\n",
      "16  28.10.2021     359           2    shipped\n",
      "17  28.10.2021     360           3  completed\n",
      "18  28.10.2021     361           4  completed\n",
      "19  29.10.2021     362           1  completed\n"
     ]
    }
   ],
   "source": [
    "dates = ['22.10.2021', '22.10.2021', '23.10.2021','23.10.2021','23.10.2021','24.10.2021','24.10.2021','25.10.2021','25.10.2021','25.10.2021','25.10.2021','25.10.2021',\n",
    "         '27.10.2021','28.10.2021','28.10.2021','28.10.2021','28.10.2021','28.10.2021','28.10.2021','29.10.2021']\n",
    "numbers = [i for i in range(343,363)]\n",
    "company_ids = np.random.randint(0, 5, size=20)\n",
    "st = ['new', 'paid', 'shipped', 'completed']\n",
    "statuses = np.random.choice(st, 20, replace=True, p=None)\n",
    "documents = pd.DataFrame({'date':dates, 'number':numbers, 'company_id': company_ids, 'status':statuses})\n",
    "print (documents)\n",
    "\n"
   ]
  },
  {
   "cell_type": "code",
   "execution_count": 109,
   "id": "fc85c672-b024-4436-9b79-e9ee3cc437ab",
   "metadata": {},
   "outputs": [
    {
     "ename": "ValueError",
     "evalue": "All arrays must be of the same length",
     "output_type": "error",
     "traceback": [
      "\u001b[1;31m---------------------------------------------------------------------------\u001b[0m",
      "\u001b[1;31mValueError\u001b[0m                                Traceback (most recent call last)",
      "\u001b[1;32m~\\AppData\\Local\\Temp/ipykernel_5484/4199727240.py\u001b[0m in \u001b[0;36m<module>\u001b[1;34m\u001b[0m\n\u001b[0;32m      7\u001b[0m     \u001b[0mprices\u001b[0m \u001b[1;33m=\u001b[0m \u001b[0mnp\u001b[0m\u001b[1;33m.\u001b[0m\u001b[0mrandom\u001b[0m\u001b[1;33m.\u001b[0m\u001b[0mrandint\u001b[0m\u001b[1;33m(\u001b[0m\u001b[1;36m0\u001b[0m\u001b[1;33m,\u001b[0m\u001b[1;36m1\u001b[0m\u001b[1;33m,\u001b[0m \u001b[0msize\u001b[0m\u001b[1;33m=\u001b[0m\u001b[1;36m20\u001b[0m\u001b[1;33m)\u001b[0m\u001b[1;33m\u001b[0m\u001b[1;33m\u001b[0m\u001b[0m\n\u001b[0;32m      8\u001b[0m     \u001b[0mdocument_ids\u001b[0m \u001b[1;33m=\u001b[0m \u001b[1;33m[\u001b[0m\u001b[0mi\u001b[0m\u001b[1;33m]\u001b[0m \u001b[1;33m*\u001b[0m \u001b[1;36m20\u001b[0m\u001b[1;33m\u001b[0m\u001b[1;33m\u001b[0m\u001b[0m\n\u001b[1;32m----> 9\u001b[1;33m     \u001b[0mdoc_lines_per_doc\u001b[0m \u001b[1;33m=\u001b[0m \u001b[0mpd\u001b[0m\u001b[1;33m.\u001b[0m\u001b[0mDataFrame\u001b[0m\u001b[1;33m(\u001b[0m\u001b[1;33m{\u001b[0m\u001b[1;34m'document_id'\u001b[0m\u001b[1;33m:\u001b[0m \u001b[0mdocuments_ids\u001b[0m\u001b[1;33m,\u001b[0m \u001b[1;34m'commodity_id'\u001b[0m\u001b[1;33m:\u001b[0m\u001b[0mcommodity_ids\u001b[0m\u001b[1;33m,\u001b[0m \u001b[1;34m'qty'\u001b[0m\u001b[1;33m:\u001b[0m\u001b[0mqtys\u001b[0m\u001b[1;33m,\u001b[0m \u001b[1;34m'price'\u001b[0m\u001b[1;33m:\u001b[0m\u001b[0mprices\u001b[0m\u001b[1;33m}\u001b[0m\u001b[1;33m)\u001b[0m\u001b[1;33m\u001b[0m\u001b[1;33m\u001b[0m\u001b[0m\n\u001b[0m\u001b[0;32m     10\u001b[0m     \u001b[0mdoc_lines\u001b[0m \u001b[1;33m=\u001b[0m \u001b[0mdoc_lines\u001b[0m\u001b[1;33m.\u001b[0m\u001b[0mappend\u001b[0m\u001b[1;33m(\u001b[0m\u001b[0mdoc_lines_per_doc\u001b[0m\u001b[1;33m,\u001b[0m \u001b[0mignore_index\u001b[0m \u001b[1;33m=\u001b[0m \u001b[1;32mTrue\u001b[0m\u001b[1;33m)\u001b[0m\u001b[1;33m\u001b[0m\u001b[1;33m\u001b[0m\u001b[0m\n\u001b[0;32m     11\u001b[0m \u001b[0mprint\u001b[0m\u001b[1;33m(\u001b[0m\u001b[0mdoc_lines\u001b[0m\u001b[1;33m)\u001b[0m\u001b[1;33m\u001b[0m\u001b[1;33m\u001b[0m\u001b[0m\n",
      "\u001b[1;32m~\\anaconda3\\envs\\hq\\lib\\site-packages\\pandas\\core\\frame.py\u001b[0m in \u001b[0;36m__init__\u001b[1;34m(self, data, index, columns, dtype, copy)\u001b[0m\n\u001b[0;32m    612\u001b[0m         \u001b[1;32melif\u001b[0m \u001b[0misinstance\u001b[0m\u001b[1;33m(\u001b[0m\u001b[0mdata\u001b[0m\u001b[1;33m,\u001b[0m \u001b[0mdict\u001b[0m\u001b[1;33m)\u001b[0m\u001b[1;33m:\u001b[0m\u001b[1;33m\u001b[0m\u001b[1;33m\u001b[0m\u001b[0m\n\u001b[0;32m    613\u001b[0m             \u001b[1;31m# GH#38939 de facto copy defaults to False only in non-dict cases\u001b[0m\u001b[1;33m\u001b[0m\u001b[1;33m\u001b[0m\u001b[1;33m\u001b[0m\u001b[0m\n\u001b[1;32m--> 614\u001b[1;33m             \u001b[0mmgr\u001b[0m \u001b[1;33m=\u001b[0m \u001b[0mdict_to_mgr\u001b[0m\u001b[1;33m(\u001b[0m\u001b[0mdata\u001b[0m\u001b[1;33m,\u001b[0m \u001b[0mindex\u001b[0m\u001b[1;33m,\u001b[0m \u001b[0mcolumns\u001b[0m\u001b[1;33m,\u001b[0m \u001b[0mdtype\u001b[0m\u001b[1;33m=\u001b[0m\u001b[0mdtype\u001b[0m\u001b[1;33m,\u001b[0m \u001b[0mcopy\u001b[0m\u001b[1;33m=\u001b[0m\u001b[0mcopy\u001b[0m\u001b[1;33m,\u001b[0m \u001b[0mtyp\u001b[0m\u001b[1;33m=\u001b[0m\u001b[0mmanager\u001b[0m\u001b[1;33m)\u001b[0m\u001b[1;33m\u001b[0m\u001b[1;33m\u001b[0m\u001b[0m\n\u001b[0m\u001b[0;32m    615\u001b[0m         \u001b[1;32melif\u001b[0m \u001b[0misinstance\u001b[0m\u001b[1;33m(\u001b[0m\u001b[0mdata\u001b[0m\u001b[1;33m,\u001b[0m \u001b[0mma\u001b[0m\u001b[1;33m.\u001b[0m\u001b[0mMaskedArray\u001b[0m\u001b[1;33m)\u001b[0m\u001b[1;33m:\u001b[0m\u001b[1;33m\u001b[0m\u001b[1;33m\u001b[0m\u001b[0m\n\u001b[0;32m    616\u001b[0m             \u001b[1;32mimport\u001b[0m \u001b[0mnumpy\u001b[0m\u001b[1;33m.\u001b[0m\u001b[0mma\u001b[0m\u001b[1;33m.\u001b[0m\u001b[0mmrecords\u001b[0m \u001b[1;32mas\u001b[0m \u001b[0mmrecords\u001b[0m\u001b[1;33m\u001b[0m\u001b[1;33m\u001b[0m\u001b[0m\n",
      "\u001b[1;32m~\\anaconda3\\envs\\hq\\lib\\site-packages\\pandas\\core\\internals\\construction.py\u001b[0m in \u001b[0;36mdict_to_mgr\u001b[1;34m(data, index, columns, dtype, typ, copy)\u001b[0m\n\u001b[0;32m    462\u001b[0m         \u001b[1;31m# TODO: can we get rid of the dt64tz special case above?\u001b[0m\u001b[1;33m\u001b[0m\u001b[1;33m\u001b[0m\u001b[1;33m\u001b[0m\u001b[0m\n\u001b[0;32m    463\u001b[0m \u001b[1;33m\u001b[0m\u001b[0m\n\u001b[1;32m--> 464\u001b[1;33m     return arrays_to_mgr(\n\u001b[0m\u001b[0;32m    465\u001b[0m         \u001b[0marrays\u001b[0m\u001b[1;33m,\u001b[0m \u001b[0mdata_names\u001b[0m\u001b[1;33m,\u001b[0m \u001b[0mindex\u001b[0m\u001b[1;33m,\u001b[0m \u001b[0mcolumns\u001b[0m\u001b[1;33m,\u001b[0m \u001b[0mdtype\u001b[0m\u001b[1;33m=\u001b[0m\u001b[0mdtype\u001b[0m\u001b[1;33m,\u001b[0m \u001b[0mtyp\u001b[0m\u001b[1;33m=\u001b[0m\u001b[0mtyp\u001b[0m\u001b[1;33m,\u001b[0m \u001b[0mconsolidate\u001b[0m\u001b[1;33m=\u001b[0m\u001b[0mcopy\u001b[0m\u001b[1;33m\u001b[0m\u001b[1;33m\u001b[0m\u001b[0m\n\u001b[0;32m    466\u001b[0m     )\n",
      "\u001b[1;32m~\\anaconda3\\envs\\hq\\lib\\site-packages\\pandas\\core\\internals\\construction.py\u001b[0m in \u001b[0;36marrays_to_mgr\u001b[1;34m(arrays, arr_names, index, columns, dtype, verify_integrity, typ, consolidate)\u001b[0m\n\u001b[0;32m    117\u001b[0m         \u001b[1;31m# figure out the index, if necessary\u001b[0m\u001b[1;33m\u001b[0m\u001b[1;33m\u001b[0m\u001b[1;33m\u001b[0m\u001b[0m\n\u001b[0;32m    118\u001b[0m         \u001b[1;32mif\u001b[0m \u001b[0mindex\u001b[0m \u001b[1;32mis\u001b[0m \u001b[1;32mNone\u001b[0m\u001b[1;33m:\u001b[0m\u001b[1;33m\u001b[0m\u001b[1;33m\u001b[0m\u001b[0m\n\u001b[1;32m--> 119\u001b[1;33m             \u001b[0mindex\u001b[0m \u001b[1;33m=\u001b[0m \u001b[0m_extract_index\u001b[0m\u001b[1;33m(\u001b[0m\u001b[0marrays\u001b[0m\u001b[1;33m)\u001b[0m\u001b[1;33m\u001b[0m\u001b[1;33m\u001b[0m\u001b[0m\n\u001b[0m\u001b[0;32m    120\u001b[0m         \u001b[1;32melse\u001b[0m\u001b[1;33m:\u001b[0m\u001b[1;33m\u001b[0m\u001b[1;33m\u001b[0m\u001b[0m\n\u001b[0;32m    121\u001b[0m             \u001b[0mindex\u001b[0m \u001b[1;33m=\u001b[0m \u001b[0mensure_index\u001b[0m\u001b[1;33m(\u001b[0m\u001b[0mindex\u001b[0m\u001b[1;33m)\u001b[0m\u001b[1;33m\u001b[0m\u001b[1;33m\u001b[0m\u001b[0m\n",
      "\u001b[1;32m~\\anaconda3\\envs\\hq\\lib\\site-packages\\pandas\\core\\internals\\construction.py\u001b[0m in \u001b[0;36m_extract_index\u001b[1;34m(data)\u001b[0m\n\u001b[0;32m    633\u001b[0m             \u001b[0mlengths\u001b[0m \u001b[1;33m=\u001b[0m \u001b[0mlist\u001b[0m\u001b[1;33m(\u001b[0m\u001b[0mset\u001b[0m\u001b[1;33m(\u001b[0m\u001b[0mraw_lengths\u001b[0m\u001b[1;33m)\u001b[0m\u001b[1;33m)\u001b[0m\u001b[1;33m\u001b[0m\u001b[1;33m\u001b[0m\u001b[0m\n\u001b[0;32m    634\u001b[0m             \u001b[1;32mif\u001b[0m \u001b[0mlen\u001b[0m\u001b[1;33m(\u001b[0m\u001b[0mlengths\u001b[0m\u001b[1;33m)\u001b[0m \u001b[1;33m>\u001b[0m \u001b[1;36m1\u001b[0m\u001b[1;33m:\u001b[0m\u001b[1;33m\u001b[0m\u001b[1;33m\u001b[0m\u001b[0m\n\u001b[1;32m--> 635\u001b[1;33m                 \u001b[1;32mraise\u001b[0m \u001b[0mValueError\u001b[0m\u001b[1;33m(\u001b[0m\u001b[1;34m\"All arrays must be of the same length\"\u001b[0m\u001b[1;33m)\u001b[0m\u001b[1;33m\u001b[0m\u001b[1;33m\u001b[0m\u001b[0m\n\u001b[0m\u001b[0;32m    636\u001b[0m \u001b[1;33m\u001b[0m\u001b[0m\n\u001b[0;32m    637\u001b[0m             \u001b[1;32mif\u001b[0m \u001b[0mhave_dicts\u001b[0m\u001b[1;33m:\u001b[0m\u001b[1;33m\u001b[0m\u001b[1;33m\u001b[0m\u001b[0m\n",
      "\u001b[1;31mValueError\u001b[0m: All arrays must be of the same length"
     ]
    }
   ],
   "source": [
    "#doc_lines\n",
    "# documents_ids = np.random.randint(0, 20, size=30)\n",
    "doc_lines = pd.DataFrame();\n",
    "for i in range (0, len(documents)):\n",
    "    commodity_ids = np.random.randint(0, 6, size=20)\n",
    "    qtys = np.random.randint(1, 100, size=20)\n",
    "    prices = np.random.randint(0,1, size=20)\n",
    "    document_ids = [i] * 20\n",
    "    doc_lines_per_doc = pd.DataFrame({'document_id': documents_ids, 'commodity_id':commodity_ids, 'qty':qtys, 'price':prices})\n",
    "    doc_lines = doc_lines.append(doc_lines_per_doc, ignore_index = True)\n",
    "print(doc_lines)"
   ]
  },
  {
   "cell_type": "code",
   "execution_count": 94,
   "id": "ae687958-5828-4347-982d-c1e286ab4691",
   "metadata": {},
   "outputs": [],
   "source": [
    "documents.to_sql('documents', sql, index_label='id', if_exists='replace')\n",
    "doc_lines.to_sql('doc_lines', sql, index_label='id', if_exists='replace')"
   ]
  },
  {
   "cell_type": "code",
   "execution_count": 95,
   "id": "21f2fd33-5ce8-40a0-af43-9d5d40294c00",
   "metadata": {},
   "outputs": [],
   "source": [
    "query = \"\"\"\n",
    "UPDATE doc_lines SET price=(SELECT price FROM commodities WHERE id=doc_lines.commodity_id) RETURNING true\n",
    "\"\"\";\n",
    "pd.read_sql(query, sql);"
   ]
  },
  {
   "cell_type": "markdown",
   "id": "cd399c19-921b-44aa-aafb-5987ce3f26b5",
   "metadata": {},
   "source": [
    " <b>Easy</b> Вывести все отгруженные заказы"
   ]
  },
  {
   "cell_type": "code",
   "execution_count": 96,
   "id": "b7eae627-4503-44aa-8077-d894bdf184e2",
   "metadata": {},
   "outputs": [
    {
     "data": {
      "text/html": [
       "<div>\n",
       "<style scoped>\n",
       "    .dataframe tbody tr th:only-of-type {\n",
       "        vertical-align: middle;\n",
       "    }\n",
       "\n",
       "    .dataframe tbody tr th {\n",
       "        vertical-align: top;\n",
       "    }\n",
       "\n",
       "    .dataframe thead th {\n",
       "        text-align: right;\n",
       "    }\n",
       "</style>\n",
       "<table border=\"1\" class=\"dataframe\">\n",
       "  <thead>\n",
       "    <tr style=\"text-align: right;\">\n",
       "      <th></th>\n",
       "      <th>date</th>\n",
       "      <th>number</th>\n",
       "      <th>status</th>\n",
       "    </tr>\n",
       "  </thead>\n",
       "  <tbody>\n",
       "    <tr>\n",
       "      <th>0</th>\n",
       "      <td>22.10.2021</td>\n",
       "      <td>344</td>\n",
       "      <td>shipped</td>\n",
       "    </tr>\n",
       "    <tr>\n",
       "      <th>1</th>\n",
       "      <td>23.10.2021</td>\n",
       "      <td>346</td>\n",
       "      <td>shipped</td>\n",
       "    </tr>\n",
       "    <tr>\n",
       "      <th>2</th>\n",
       "      <td>25.10.2021</td>\n",
       "      <td>350</td>\n",
       "      <td>shipped</td>\n",
       "    </tr>\n",
       "    <tr>\n",
       "      <th>3</th>\n",
       "      <td>25.10.2021</td>\n",
       "      <td>353</td>\n",
       "      <td>shipped</td>\n",
       "    </tr>\n",
       "    <tr>\n",
       "      <th>4</th>\n",
       "      <td>25.10.2021</td>\n",
       "      <td>354</td>\n",
       "      <td>shipped</td>\n",
       "    </tr>\n",
       "    <tr>\n",
       "      <th>5</th>\n",
       "      <td>28.10.2021</td>\n",
       "      <td>357</td>\n",
       "      <td>shipped</td>\n",
       "    </tr>\n",
       "    <tr>\n",
       "      <th>6</th>\n",
       "      <td>28.10.2021</td>\n",
       "      <td>359</td>\n",
       "      <td>shipped</td>\n",
       "    </tr>\n",
       "  </tbody>\n",
       "</table>\n",
       "</div>"
      ],
      "text/plain": [
       "         date  number   status\n",
       "0  22.10.2021     344  shipped\n",
       "1  23.10.2021     346  shipped\n",
       "2  25.10.2021     350  shipped\n",
       "3  25.10.2021     353  shipped\n",
       "4  25.10.2021     354  shipped\n",
       "5  28.10.2021     357  shipped\n",
       "6  28.10.2021     359  shipped"
      ]
     },
     "execution_count": 96,
     "metadata": {},
     "output_type": "execute_result"
    }
   ],
   "source": [
    "query = \"\"\"\n",
    "SELECT date as date,\n",
    "number as number,\n",
    "status as status\n",
    "FROM documents \n",
    "WHERE status = \"shipped\"\n",
    "\"\"\"\n",
    "pd.read_sql(query, sql)"
   ]
  },
  {
   "cell_type": "markdown",
   "id": "8aa63dd8-c4ca-4da8-94e3-8984fbb72d2a",
   "metadata": {},
   "source": [
    "<b>Normal</b> Вывести все заказы клиента \"Zooptorg\" с суммами"
   ]
  },
  {
   "cell_type": "code",
   "execution_count": 97,
   "id": "c81b9916-b98d-4b43-a5a4-98985d817b8a",
   "metadata": {},
   "outputs": [
    {
     "data": {
      "text/html": [
       "<div>\n",
       "<style scoped>\n",
       "    .dataframe tbody tr th:only-of-type {\n",
       "        vertical-align: middle;\n",
       "    }\n",
       "\n",
       "    .dataframe tbody tr th {\n",
       "        vertical-align: top;\n",
       "    }\n",
       "\n",
       "    .dataframe thead th {\n",
       "        text-align: right;\n",
       "    }\n",
       "</style>\n",
       "<table border=\"1\" class=\"dataframe\">\n",
       "  <thead>\n",
       "    <tr style=\"text-align: right;\">\n",
       "      <th></th>\n",
       "      <th>date</th>\n",
       "      <th>number</th>\n",
       "      <th>company_name</th>\n",
       "      <th>INN</th>\n",
       "      <th>total</th>\n",
       "      <th>document_id</th>\n",
       "    </tr>\n",
       "  </thead>\n",
       "  <tbody>\n",
       "  </tbody>\n",
       "</table>\n",
       "</div>"
      ],
      "text/plain": [
       "Empty DataFrame\n",
       "Columns: [date, number, company_name, INN, total, document_id]\n",
       "Index: []"
      ]
     },
     "execution_count": 97,
     "metadata": {},
     "output_type": "execute_result"
    }
   ],
   "source": [
    "query = \"\"\"\n",
    "SELECT date as date,\n",
    "number as number,\n",
    "company_name as company_name,\n",
    "INN as INN,\n",
    "total,\n",
    "document_id\n",
    "FROM documents as doc\n",
    "LEFT JOIN companies as comp ON doc.company_id = comp.id\n",
    "LEFT JOIN (\n",
    "  SELECT document_id,sum(price*qty) AS total FROM  doc_lines GROUP BY document_id\n",
    "  ) AS totals \n",
    "  ON totals.document_id=doc.id\n",
    "WHERE company_name = \"Zooptorg\"\n",
    "\"\"\"\n",
    "pd.read_sql(query, sql)"
   ]
  },
  {
   "cell_type": "markdown",
   "id": "02b334a8-e44e-4123-8f7e-5f413526a140",
   "metadata": {},
   "source": [
    "<b>Hard</b> Статистика продаж по дням (с графиком)"
   ]
  },
  {
   "cell_type": "code",
   "execution_count": 98,
   "id": "cb3c9e43-8b3b-44fc-a5c9-ca82ee32af4e",
   "metadata": {},
   "outputs": [
    {
     "name": "stdout",
     "output_type": "stream",
     "text": [
      "         date    total\n",
      "0  22.10.2021  1103620\n",
      "1  23.10.2021   155258\n",
      "2  24.10.2021  1059948\n",
      "3  25.10.2021  1811666\n",
      "4  27.10.2021   231013\n",
      "5  28.10.2021  1807813\n",
      "6  29.10.2021   461587\n"
     ]
    }
   ],
   "source": [
    "query = \"\"\"\n",
    "SELECT date as date,\n",
    "sum(total) AS total\n",
    "FROM documents as doc\n",
    "LEFT JOIN (\n",
    "  SELECT document_id,sum(price*qty) AS total FROM  doc_lines GROUP BY document_id\n",
    "   ) AS totals ON totals.document_id=doc.id\n",
    " GROUP BY date ORDER BY date\n",
    "\"\"\"\n",
    "df = pd.read_sql(query, sql)\n",
    "print(df)"
   ]
  },
  {
   "cell_type": "code",
   "execution_count": 102,
   "id": "9538ff36-e6b7-4a01-9f5f-79216297f12e",
   "metadata": {},
   "outputs": [
    {
     "data": {
      "image/png": "[encoded data removed]",
      "text/plain": [
       "<Figure size 1296x360 with 1 Axes>"
      ]
     },
     "metadata": {
      "needs_background": "light"
     },
     "output_type": "display_data"
    }
   ],
   "source": [
    "import matplotlib.pyplot as plt\n",
    "fig = plt.figure(figsize=(18,5))\n",
    "ax = fig.add_subplot(111)\n",
    "ax.set_xlim([0, 8])\n",
    "ax.set_ylim([0, 2000000])\n",
    "ax.set_title('Статистика продаж по дням')\n",
    "ax.set_xlabel('Дни')\n",
    "ax.set_ylabel('Объем продаж')\n",
    "x = df['date']\n",
    "y = df['total']\n",
    "ax.bar(x, y)\n",
    "plt.show()"
   ]
  },
  {
   "cell_type": "code",
   "execution_count": null,
   "id": "d1e5268d-e1ae-40f5-b4d0-64498ed92532",
   "metadata": {},
   "outputs": [],
   "source": []
  }
 ],
 "metadata": {
  "kernelspec": {
   "display_name": "Python 3 (ipykernel)",
   "language": "python",
   "name": "python3"
  },
  "language_info": {
   "codemirror_mode": {
    "name": "ipython",
    "version": 3
   },
   "file_extension": ".py",
   "mimetype": "text/x-python",
   "name": "python",
   "nbconvert_exporter": "python",
   "pygments_lexer": "ipython3",
   "version": "3.8.12"
  }
 },
 "nbformat": 4,
 "nbformat_minor": 5
}
