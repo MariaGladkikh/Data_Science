{
 "cells": [
  {
   "cell_type": "code",
   "execution_count": 1,
   "id": "faa21519-18f5-47c8-ba35-c40a37d78131",
   "metadata": {},
   "outputs": [
    {
     "name": "stdout",
     "output_type": "stream",
     "text": [
      "Процент детей среди пассажиров 12.682379349046016 %\n",
      "Процент женщин - 35.24130190796858 %; процент мужчин - 64.75869809203144 %; процент остальных -  -1.4210854715202004e-14 %.\n"
     ]
    }
   ],
   "source": [
    "#Easy\n",
    "#Будем анализировать файл train.csv.\n",
    "#Необходимо прочитать файл, посчитать процент детей (младше 18 лет), соотношение мужчин/женщин на борту\n",
    "import pandas as pd\n",
    "df = pd.read_csv('train.csv')\n",
    "df.head()\n",
    "df[\"Child\"] = df[\"Age\"].apply(lambda x: \"child\" if x < 18 else \"adult\")\n",
    "qty = len(df)\n",
    "\n",
    "child_df = df.query('Age<18')\n",
    "child_qty = len(child_df)\n",
    "child_proc = (child_qty/qty)*100\n",
    "print ('Процент детей среди пассажиров',child_proc,'%')\n",
    "male_df = df.query('Sex == \"male\"')\n",
    "male_qty = len(male_df)\n",
    "female_df = df.query('Sex == \"female\"')\n",
    "female_qty = len(female_df)\n",
    "female_proc = (female_qty/qty)*100\n",
    "male_proc = (male_qty/qty)*100\n",
    "other_proc = 100 - male_proc - female_proc\n",
    "print ('Процент женщин -',female_proc,'%; процент мужчин -',male_proc,'%; процент остальных - ',other_proc,'%.')"
   ]
  },
  {
   "cell_type": "code",
   "execution_count": 2,
   "id": "bbf263d1-1ef0-422c-9e54-f972ea25d379",
   "metadata": {},
   "outputs": [
    {
     "name": "stdout",
     "output_type": "stream",
     "text": [
      "Нет информации по полу или возрасту по 177 пассажирам\n",
      "Выжило женщин - 74.20382165605095 %.\n",
      "Выжило мужчин - 18.890814558058924 %.\n",
      "Выжило детей - 53.98230088495575 %.\n"
     ]
    }
   ],
   "source": [
    "#Normal\n",
    "#Посчитать по скольким людям нет информации (пола или возраста)\n",
    "\n",
    "df1 = df[['PassengerId','Sex','Age']]\n",
    "df2 = df1.dropna()\n",
    "qty_emp = qty - len(df2)\n",
    "print('Нет информации по полу или возрасту по', qty_emp,'пассажирам')\n",
    "\n",
    "#Посчитать какой процент мужин и женщин выжили, какой процент детей выжили.\n",
    "surv_df = df.query('Survived ==1')\n",
    "surv_qty = len(surv_df)\n",
    "#print(surv_qty)\n",
    "\n",
    "surv_fem = surv_df[surv_df.Sex == 'female'].PassengerId.count()\n",
    "surv_fem_proc = (surv_fem/female_qty) * 100\n",
    "print ('Выжило женщин -',surv_fem_proc,'%.')\n",
    "\n",
    "surv_mal = surv_df[surv_df.Sex == 'male'].PassengerId.count()\n",
    "surv_mal_proc = (surv_mal/male_qty) * 100\n",
    "print ('Выжило мужчин -',surv_mal_proc,'%.')\n",
    "surv_ch = surv_df[surv_df.Child == 'child'].PassengerId.count()\n",
    "surv_ch_proc = (surv_ch/child_qty) * 100\n",
    "print ('Выжило детей -',surv_ch_proc,'%.')"
   ]
  },
  {
   "cell_type": "code",
   "execution_count": 28,
   "id": "167307f8-9273-42c0-b841-39ab2c0413b5",
   "metadata": {},
   "outputs": [
    {
     "name": "stdout",
     "output_type": "stream",
     "text": [
      "      Age  Count\n",
      "73   0.42      1\n",
      "74   0.67      1\n",
      "63   0.75      2\n",
      "66   0.83      2\n",
      "85   0.92      1\n",
      "..    ...    ...\n",
      "62  70.00      2\n",
      "81  70.50      1\n",
      "64  71.00      2\n",
      "87  74.00      1\n",
      "77  80.00      1\n",
      "\n",
      "[88 rows x 2 columns]\n"
     ]
    },
    {
     "data": {
      "image/png": "[encoded data removed]",
      "text/plain": [
       "<Figure size 1296x360 with 1 Axes>"
      ]
     },
     "metadata": {
      "needs_background": "light"
     },
     "output_type": "display_data"
    }
   ],
   "source": [
    "#Вывести гистограмму по возрасту пассажиров\n",
    "df_age = df['Age'].value_counts().reset_index()\n",
    "df_age.columns = ['Age', 'Count']\n",
    "#print (df_age)\n",
    "df_age_sort = df_age.sort_values(by = ['Age', 'Count'])\n",
    "\n",
    "print (df_age_sort)\n",
    "\n",
    "fig = plt.figure(figsize=(18,5))\n",
    "ax = fig.add_subplot(111)\n",
    "ax.set_xlim([0, 80])\n",
    "ax.set_ylim([0, 35])\n",
    "ax.set_title('Количество пассажиров по возрасту')\n",
    "ax.set_xlabel('Возраст')\n",
    "ax.set_ylabel('Количество пассажиров')\n",
    "x = df_age_sort['Age']\n",
    "y = df_age_sort['Count']\n",
    "ax.bar(x, y)\n",
    "plt.show()\n"
   ]
  },
  {
   "cell_type": "code",
   "execution_count": 5,
   "id": "067cf449-d831-4dd5-8183-402d5ab8e788",
   "metadata": {},
   "outputs": [
    {
     "name": "stdout",
     "output_type": "stream",
     "text": [
      "Корреляция между полом и выживаемостью\n"
     ]
    },
    {
     "data": {
      "text/html": [
       "<div>\n",
       "<style scoped>\n",
       "    .dataframe tbody tr th:only-of-type {\n",
       "        vertical-align: middle;\n",
       "    }\n",
       "\n",
       "    .dataframe tbody tr th {\n",
       "        vertical-align: top;\n",
       "    }\n",
       "\n",
       "    .dataframe thead th {\n",
       "        text-align: right;\n",
       "    }\n",
       "</style>\n",
       "<table border=\"1\" class=\"dataframe\">\n",
       "  <thead>\n",
       "    <tr style=\"text-align: right;\">\n",
       "      <th></th>\n",
       "      <th>Survived</th>\n",
       "    </tr>\n",
       "    <tr>\n",
       "      <th>AgeGroup</th>\n",
       "      <th></th>\n",
       "    </tr>\n",
       "  </thead>\n",
       "  <tbody>\n",
       "    <tr>\n",
       "      <th>(0.34, 10.368]</th>\n",
       "      <td>0.593750</td>\n",
       "    </tr>\n",
       "    <tr>\n",
       "      <th>(10.368, 20.315]</th>\n",
       "      <td>0.382609</td>\n",
       "    </tr>\n",
       "    <tr>\n",
       "      <th>(20.315, 30.263]</th>\n",
       "      <td>0.365217</td>\n",
       "    </tr>\n",
       "    <tr>\n",
       "      <th>(30.263, 40.21]</th>\n",
       "      <td>0.445161</td>\n",
       "    </tr>\n",
       "    <tr>\n",
       "      <th>(40.21, 50.158]</th>\n",
       "      <td>0.383721</td>\n",
       "    </tr>\n",
       "    <tr>\n",
       "      <th>(50.158, 60.105]</th>\n",
       "      <td>0.404762</td>\n",
       "    </tr>\n",
       "    <tr>\n",
       "      <th>(60.105, 70.052]</th>\n",
       "      <td>0.235294</td>\n",
       "    </tr>\n",
       "    <tr>\n",
       "      <th>(70.052, 80.0]</th>\n",
       "      <td>0.200000</td>\n",
       "    </tr>\n",
       "  </tbody>\n",
       "</table>\n",
       "</div>"
      ],
      "text/plain": [
       "                  Survived\n",
       "AgeGroup                  \n",
       "(0.34, 10.368]    0.593750\n",
       "(10.368, 20.315]  0.382609\n",
       "(20.315, 30.263]  0.365217\n",
       "(30.263, 40.21]   0.445161\n",
       "(40.21, 50.158]   0.383721\n",
       "(50.158, 60.105]  0.404762\n",
       "(60.105, 70.052]  0.235294\n",
       "(70.052, 80.0]    0.200000"
      ]
     },
     "execution_count": 5,
     "metadata": {},
     "output_type": "execute_result"
    }
   ],
   "source": [
    "#Посчитать корреляцию между полом и выживаемостью\n",
    "print ('Корреляция между полом и выживаемостью')\n",
    "df ['AgeGroup'] = pd.cut (df ['Age'], 8)\n",
    "df.AgeGroup.value_counts(sort=False)\n",
    "df.pivot_table(values='Survived',index='AgeGroup',aggfunc=np.mean)"
   ]
  },
  {
   "cell_type": "code",
   "execution_count": 6,
   "id": "4b95fbb1-4ada-4003-b078-21a14a192aa1",
   "metadata": {},
   "outputs": [
    {
     "name": "stdout",
     "output_type": "stream",
     "text": [
      "Корреляция между возрастом и выживаемостью\n"
     ]
    },
    {
     "data": {
      "text/html": [
       "<div>\n",
       "<style scoped>\n",
       "    .dataframe tbody tr th:only-of-type {\n",
       "        vertical-align: middle;\n",
       "    }\n",
       "\n",
       "    .dataframe tbody tr th {\n",
       "        vertical-align: top;\n",
       "    }\n",
       "\n",
       "    .dataframe thead th {\n",
       "        text-align: right;\n",
       "    }\n",
       "</style>\n",
       "<table border=\"1\" class=\"dataframe\">\n",
       "  <thead>\n",
       "    <tr style=\"text-align: right;\">\n",
       "      <th></th>\n",
       "      <th>Survived</th>\n",
       "    </tr>\n",
       "    <tr>\n",
       "      <th>Sex</th>\n",
       "      <th></th>\n",
       "    </tr>\n",
       "  </thead>\n",
       "  <tbody>\n",
       "    <tr>\n",
       "      <th>female</th>\n",
       "      <td>0.742038</td>\n",
       "    </tr>\n",
       "    <tr>\n",
       "      <th>male</th>\n",
       "      <td>0.188908</td>\n",
       "    </tr>\n",
       "  </tbody>\n",
       "</table>\n",
       "</div>"
      ],
      "text/plain": [
       "        Survived\n",
       "Sex             \n",
       "female  0.742038\n",
       "male    0.188908"
      ]
     },
     "execution_count": 6,
     "metadata": {},
     "output_type": "execute_result"
    }
   ],
   "source": [
    "#Посчитать корреляцию между возрастом и выживаемостью\n",
    "print ('Корреляция между возрастом и выживаемостью')\n",
    "df.pivot_table(values='Survived',index='Sex',aggfunc=np.mean)"
   ]
  },
  {
   "cell_type": "markdown",
   "id": "b5703ef9-e05e-4527-ba8d-39148a673ac9",
   "metadata": {},
   "source": [
    "Посчитать корреляцию (методом corr)\n",
    "ИСПРАВЛЕННОЕ ДЗ"
   ]
  },
  {
   "cell_type": "code",
   "execution_count": 17,
   "id": "0f4f8745-bdca-49cb-bf3b-84823e74fdb8",
   "metadata": {},
   "outputs": [
    {
     "name": "stdout",
     "output_type": "stream",
     "text": [
      "     Survived     Sex   Age\n",
      "0           0    male  22.0\n",
      "1           1  female  38.0\n",
      "2           1  female  26.0\n",
      "3           1  female  35.0\n",
      "4           0    male  35.0\n",
      "..        ...     ...   ...\n",
      "886         0    male  27.0\n",
      "887         1  female  19.0\n",
      "888         0  female   NaN\n",
      "889         1    male  26.0\n",
      "890         0    male  32.0\n",
      "\n",
      "[891 rows x 3 columns]\n"
     ]
    },
    {
     "data": {
      "text/html": [
       "<div>\n",
       "<style scoped>\n",
       "    .dataframe tbody tr th:only-of-type {\n",
       "        vertical-align: middle;\n",
       "    }\n",
       "\n",
       "    .dataframe tbody tr th {\n",
       "        vertical-align: top;\n",
       "    }\n",
       "\n",
       "    .dataframe thead th {\n",
       "        text-align: right;\n",
       "    }\n",
       "</style>\n",
       "<table border=\"1\" class=\"dataframe\">\n",
       "  <thead>\n",
       "    <tr style=\"text-align: right;\">\n",
       "      <th></th>\n",
       "      <th>Survived</th>\n",
       "      <th>Age</th>\n",
       "    </tr>\n",
       "  </thead>\n",
       "  <tbody>\n",
       "    <tr>\n",
       "      <th>Survived</th>\n",
       "      <td>1.000000</td>\n",
       "      <td>-0.077221</td>\n",
       "    </tr>\n",
       "    <tr>\n",
       "      <th>Age</th>\n",
       "      <td>-0.077221</td>\n",
       "      <td>1.000000</td>\n",
       "    </tr>\n",
       "  </tbody>\n",
       "</table>\n",
       "</div>"
      ],
      "text/plain": [
       "          Survived       Age\n",
       "Survived  1.000000 -0.077221\n",
       "Age      -0.077221  1.000000"
      ]
     },
     "execution_count": 17,
     "metadata": {},
     "output_type": "execute_result"
    }
   ],
   "source": [
    "df_corr = df[['Survived','Sex','Age',]]\n",
    "print(df_corr)\n",
    "df_corr.corr()"
   ]
  },
  {
   "cell_type": "code",
   "execution_count": null,
   "id": "d4cb452c-1a47-42ed-adca-b2bf382f87da",
   "metadata": {},
   "outputs": [],
   "source": []
  },
  {
   "cell_type": "code",
   "execution_count": null,
   "id": "0e525d1f-7509-41f8-8498-fb36e3716acc",
   "metadata": {},
   "outputs": [],
   "source": []
  }
 ],
 "metadata": {
  "kernelspec": {
   "display_name": "Python 3 (ipykernel)",
   "language": "python",
   "name": "python3"
  },
  "language_info": {
   "codemirror_mode": {
    "name": "ipython",
    "version": 3
   },
   "file_extension": ".py",
   "mimetype": "text/x-python",
   "name": "python",
   "nbconvert_exporter": "python",
   "pygments_lexer": "ipython3",
   "version": "3.8.12"
  }
 },
 "nbformat": 4,
 "nbformat_minor": 5
}
